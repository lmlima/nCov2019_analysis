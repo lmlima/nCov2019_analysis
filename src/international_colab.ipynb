{
  "nbformat": 4,
  "nbformat_minor": 0,
  "metadata": {
    "colab": {
      "name": "international_colab.ipynb",
      "provenance": [],
      "collapsed_sections": [
        "XjiQu56eMgvQ"
      ],
      "include_colab_link": true
    },
    "kernelspec": {
      "display_name": "Python 3",
      "language": "python",
      "name": "python3"
    },
    "language_info": {
      "codemirror_mode": {
        "name": "ipython",
        "version": 3
      },
      "file_extension": ".py",
      "mimetype": "text/x-python",
      "name": "python",
      "nbconvert_exporter": "python",
      "pygments_lexer": "ipython3",
      "version": "3.6.7"
    }
  },
  "cells": [
    {
      "cell_type": "markdown",
      "metadata": {
        "id": "view-in-github",
        "colab_type": "text"
      },
      "source": [
        "<a href=\"https://colab.research.google.com/github/lmlima/nCov2019_analysis/blob/master/src/international_colab.ipynb\" target=\"_parent\"><img src=\"https://colab.research.google.com/assets/colab-badge.svg\" alt=\"Open In Colab\"/></a>"
      ]
    },
    {
      "cell_type": "code",
      "metadata": {
        "colab_type": "code",
        "id": "dkIJ5orxp7Nc",
        "outputId": "522c73db-9a64-4f62-edbe-4e063591eede",
        "colab": {
          "base_uri": "https://localhost:8080/",
          "height": 34
        }
      },
      "source": [
        "! git clone https://github.com/jianxu305/nCov2019_analysis/\n",
        "#! git pull"
      ],
      "execution_count": 16,
      "outputs": [
        {
          "output_type": "stream",
          "text": [
            "fatal: destination path 'nCov2019_analysis' already exists and is not an empty directory.\n"
          ],
          "name": "stdout"
        }
      ]
    },
    {
      "cell_type": "code",
      "metadata": {
        "colab_type": "code",
        "id": "YiCtZv8aqASf",
        "colab": {}
      },
      "source": [
        "import sys\n",
        "import os\n",
        "os.chdir('/content/nCov2019_analysis/src')\n",
        "\n",
        "sys.path.append('/content/nCov2019_analysis/src')"
      ],
      "execution_count": 0,
      "outputs": []
    },
    {
      "cell_type": "code",
      "metadata": {
        "colab_type": "code",
        "id": "LYgkJCsgqP14",
        "colab": {
          "base_uri": "https://localhost:8080/",
          "height": 51
        },
        "outputId": "a1ab7069-812d-40ac-b6f2-c23b8a1fad40"
      },
      "source": [
        "import pandas as pd\n",
        "import numpy as np\n",
        "import matplotlib.pyplot as plt\n",
        "import utils   # some convenient functions\n",
        "import matplotlib.font_manager as mfm\n",
        "import datetime\n",
        "\n",
        "%load_ext autoreload\n",
        "%autoreload 2"
      ],
      "execution_count": 18,
      "outputs": [
        {
          "output_type": "stream",
          "text": [
            "The autoreload extension is already loaded. To reload it, use:\n",
            "  %reload_ext autoreload\n"
          ],
          "name": "stdout"
        }
      ]
    },
    {
      "cell_type": "code",
      "metadata": {
        "colab_type": "code",
        "id": "yth1KlwfslkQ",
        "colab": {}
      },
      "source": [
        "# dxy_raw = utils.load_chinese_data()"
      ],
      "execution_count": 0,
      "outputs": []
    },
    {
      "cell_type": "code",
      "metadata": {
        "colab_type": "code",
        "id": "mWkO9PYiswpO",
        "colab": {}
      },
      "source": [
        "# dxy_frm = utils.aggDaily(dxy_raw)"
      ],
      "execution_count": 0,
      "outputs": []
    },
    {
      "cell_type": "code",
      "metadata": {
        "colab_type": "code",
        "id": "UEKLvWIheOqI",
        "colab": {}
      },
      "source": [
        "jhs_raw = utils.load_jhs_raw()"
      ],
      "execution_count": 0,
      "outputs": []
    },
    {
      "cell_type": "code",
      "metadata": {
        "colab_type": "code",
        "id": "ytXSdb87Of91",
        "colab": {}
      },
      "source": [
        "jhs_frm = utils.jhs_daily(jhs_raw)"
      ],
      "execution_count": 0,
      "outputs": []
    },
    {
      "cell_type": "code",
      "metadata": {
        "colab_type": "code",
        "id": "dTWZri5fOnBb",
        "outputId": "96d86079-a163-4b55-cdb5-fda43921da25",
        "colab": {
          "base_uri": "https://localhost:8080/",
          "height": 326
        }
      },
      "source": [
        "jhs_frm.tail()"
      ],
      "execution_count": 23,
      "outputs": [
        {
          "output_type": "execute_result",
          "data": {
            "text/html": [
              "<div>\n",
              "<style scoped>\n",
              "    .dataframe tbody tr th:only-of-type {\n",
              "        vertical-align: middle;\n",
              "    }\n",
              "\n",
              "    .dataframe tbody tr th {\n",
              "        vertical-align: top;\n",
              "    }\n",
              "\n",
              "    .dataframe thead th {\n",
              "        text-align: right;\n",
              "    }\n",
              "</style>\n",
              "<table border=\"1\" class=\"dataframe\">\n",
              "  <thead>\n",
              "    <tr style=\"text-align: right;\">\n",
              "      <th></th>\n",
              "      <th>province/state</th>\n",
              "      <th>country/region</th>\n",
              "      <th>Last Update</th>\n",
              "      <th>cum_confirmed</th>\n",
              "      <th>cum_dead</th>\n",
              "      <th>cum_cured</th>\n",
              "      <th>Latitude</th>\n",
              "      <th>Longitude</th>\n",
              "      <th>update_time</th>\n",
              "      <th>update_date</th>\n",
              "      <th>new_confirmed</th>\n",
              "      <th>new_dead</th>\n",
              "      <th>new_cured</th>\n",
              "    </tr>\n",
              "  </thead>\n",
              "  <tbody>\n",
              "    <tr>\n",
              "      <th>5291</th>\n",
              "      <td>United Kingdom</td>\n",
              "      <td>United Kingdom</td>\n",
              "      <td>2020-03-22T22:43:03</td>\n",
              "      <td>5683.0</td>\n",
              "      <td>281.0</td>\n",
              "      <td>65.0</td>\n",
              "      <td>55.3781</td>\n",
              "      <td>-3.4360</td>\n",
              "      <td>2020-03-22 22:43:03</td>\n",
              "      <td>2020-03-22</td>\n",
              "      <td>665.0</td>\n",
              "      <td>48.0</td>\n",
              "      <td>0.0</td>\n",
              "    </tr>\n",
              "    <tr>\n",
              "      <th>5292</th>\n",
              "      <td></td>\n",
              "      <td>Uruguay</td>\n",
              "      <td>2020-03-22T11:13:20</td>\n",
              "      <td>135.0</td>\n",
              "      <td>0.0</td>\n",
              "      <td>0.0</td>\n",
              "      <td>-32.5228</td>\n",
              "      <td>-55.7658</td>\n",
              "      <td>2020-03-22 11:13:20</td>\n",
              "      <td>2020-03-22</td>\n",
              "      <td>25.0</td>\n",
              "      <td>0.0</td>\n",
              "      <td>0.0</td>\n",
              "    </tr>\n",
              "    <tr>\n",
              "      <th>5293</th>\n",
              "      <td></td>\n",
              "      <td>Venezuela</td>\n",
              "      <td>2020-03-22T01:43:02</td>\n",
              "      <td>70.0</td>\n",
              "      <td>0.0</td>\n",
              "      <td>15.0</td>\n",
              "      <td>6.4238</td>\n",
              "      <td>-66.5897</td>\n",
              "      <td>2020-03-22 01:43:02</td>\n",
              "      <td>2020-03-22</td>\n",
              "      <td>0.0</td>\n",
              "      <td>0.0</td>\n",
              "      <td>15.0</td>\n",
              "    </tr>\n",
              "    <tr>\n",
              "      <th>5294</th>\n",
              "      <td></td>\n",
              "      <td>Vietnam</td>\n",
              "      <td>2020-03-22T16:43:07</td>\n",
              "      <td>113.0</td>\n",
              "      <td>0.0</td>\n",
              "      <td>17.0</td>\n",
              "      <td>14.0583</td>\n",
              "      <td>108.2772</td>\n",
              "      <td>2020-03-22 16:43:07</td>\n",
              "      <td>2020-03-22</td>\n",
              "      <td>19.0</td>\n",
              "      <td>0.0</td>\n",
              "      <td>0.0</td>\n",
              "    </tr>\n",
              "    <tr>\n",
              "      <th>5295</th>\n",
              "      <td></td>\n",
              "      <td>Zambia</td>\n",
              "      <td>2020-03-22T14:13:08</td>\n",
              "      <td>3.0</td>\n",
              "      <td>0.0</td>\n",
              "      <td>0.0</td>\n",
              "      <td>-13.1339</td>\n",
              "      <td>27.8493</td>\n",
              "      <td>2020-03-22 14:13:08</td>\n",
              "      <td>2020-03-22</td>\n",
              "      <td>1.0</td>\n",
              "      <td>0.0</td>\n",
              "      <td>0.0</td>\n",
              "    </tr>\n",
              "  </tbody>\n",
              "</table>\n",
              "</div>"
            ],
            "text/plain": [
              "      province/state  country/region  ... new_dead  new_cured\n",
              "5291  United Kingdom  United Kingdom  ...     48.0        0.0\n",
              "5292                         Uruguay  ...      0.0        0.0\n",
              "5293                       Venezuela  ...      0.0       15.0\n",
              "5294                         Vietnam  ...      0.0        0.0\n",
              "5295                          Zambia  ...      0.0        0.0\n",
              "\n",
              "[5 rows x 13 columns]"
            ]
          },
          "metadata": {
            "tags": []
          },
          "execution_count": 23
        }
      ]
    },
    {
      "cell_type": "markdown",
      "metadata": {
        "id": "NRY-J_amGV9N",
        "colab_type": "text"
      },
      "source": [
        "# Compare countries after 50 cum_confirmed"
      ]
    },
    {
      "cell_type": "code",
      "metadata": {
        "id": "aXnTaQL_E0ih",
        "colab_type": "code",
        "colab": {}
      },
      "source": [
        "countries=['Brazil','Italy', 'Germany', 'US', 'France', 'Spain']\n",
        "\n",
        "jhs_50=jhs_frm[(jhs_frm['country/region'].isin(countries)) & (jhs_frm['cum_confirmed']>50)].copy()"
      ],
      "execution_count": 0,
      "outputs": []
    },
    {
      "cell_type": "code",
      "metadata": {
        "id": "qC5uTafkGM-j",
        "colab_type": "code",
        "colab": {}
      },
      "source": [
        "brazil=jhs_50[(jhs_50['country/region']=='Brazil')].sort_values('update_date').reset_index()[['cum_confirmed','country/region']].copy()\n",
        "# brazil[\"pais\"]='Brazil'\n",
        "italy=jhs_50[(jhs_50['country/region']=='Italy')].sort_values('update_date').reset_index()[['cum_confirmed','country/region']].copy()\n",
        "# italy[\"pais\"]='Italy'\n"
      ],
      "execution_count": 0,
      "outputs": []
    },
    {
      "cell_type": "code",
      "metadata": {
        "id": "lVrcfdEjLycS",
        "colab_type": "code",
        "colab": {
          "base_uri": "https://localhost:8080/",
          "height": 886
        },
        "outputId": "934b90cd-54a5-4fbc-a5e7-d5194d6d87bb"
      },
      "source": [
        "italy"
      ],
      "execution_count": 71,
      "outputs": [
        {
          "output_type": "execute_result",
          "data": {
            "text/html": [
              "<div>\n",
              "<style scoped>\n",
              "    .dataframe tbody tr th:only-of-type {\n",
              "        vertical-align: middle;\n",
              "    }\n",
              "\n",
              "    .dataframe tbody tr th {\n",
              "        vertical-align: top;\n",
              "    }\n",
              "\n",
              "    .dataframe thead th {\n",
              "        text-align: right;\n",
              "    }\n",
              "</style>\n",
              "<table border=\"1\" class=\"dataframe\">\n",
              "  <thead>\n",
              "    <tr style=\"text-align: right;\">\n",
              "      <th></th>\n",
              "      <th>cum_confirmed</th>\n",
              "      <th>country/region</th>\n",
              "    </tr>\n",
              "  </thead>\n",
              "  <tbody>\n",
              "    <tr>\n",
              "      <th>0</th>\n",
              "      <td>62.0</td>\n",
              "      <td>Italy</td>\n",
              "    </tr>\n",
              "    <tr>\n",
              "      <th>1</th>\n",
              "      <td>155.0</td>\n",
              "      <td>Italy</td>\n",
              "    </tr>\n",
              "    <tr>\n",
              "      <th>2</th>\n",
              "      <td>229.0</td>\n",
              "      <td>Italy</td>\n",
              "    </tr>\n",
              "    <tr>\n",
              "      <th>3</th>\n",
              "      <td>322.0</td>\n",
              "      <td>Italy</td>\n",
              "    </tr>\n",
              "    <tr>\n",
              "      <th>4</th>\n",
              "      <td>453.0</td>\n",
              "      <td>Italy</td>\n",
              "    </tr>\n",
              "    <tr>\n",
              "      <th>5</th>\n",
              "      <td>655.0</td>\n",
              "      <td>Italy</td>\n",
              "    </tr>\n",
              "    <tr>\n",
              "      <th>6</th>\n",
              "      <td>888.0</td>\n",
              "      <td>Italy</td>\n",
              "    </tr>\n",
              "    <tr>\n",
              "      <th>7</th>\n",
              "      <td>1128.0</td>\n",
              "      <td>Italy</td>\n",
              "    </tr>\n",
              "    <tr>\n",
              "      <th>8</th>\n",
              "      <td>1694.0</td>\n",
              "      <td>Italy</td>\n",
              "    </tr>\n",
              "    <tr>\n",
              "      <th>9</th>\n",
              "      <td>2036.0</td>\n",
              "      <td>Italy</td>\n",
              "    </tr>\n",
              "    <tr>\n",
              "      <th>10</th>\n",
              "      <td>2502.0</td>\n",
              "      <td>Italy</td>\n",
              "    </tr>\n",
              "    <tr>\n",
              "      <th>11</th>\n",
              "      <td>3089.0</td>\n",
              "      <td>Italy</td>\n",
              "    </tr>\n",
              "    <tr>\n",
              "      <th>12</th>\n",
              "      <td>3858.0</td>\n",
              "      <td>Italy</td>\n",
              "    </tr>\n",
              "    <tr>\n",
              "      <th>13</th>\n",
              "      <td>4636.0</td>\n",
              "      <td>Italy</td>\n",
              "    </tr>\n",
              "    <tr>\n",
              "      <th>14</th>\n",
              "      <td>5883.0</td>\n",
              "      <td>Italy</td>\n",
              "    </tr>\n",
              "    <tr>\n",
              "      <th>15</th>\n",
              "      <td>7375.0</td>\n",
              "      <td>Italy</td>\n",
              "    </tr>\n",
              "    <tr>\n",
              "      <th>16</th>\n",
              "      <td>9172.0</td>\n",
              "      <td>Italy</td>\n",
              "    </tr>\n",
              "    <tr>\n",
              "      <th>17</th>\n",
              "      <td>10149.0</td>\n",
              "      <td>Italy</td>\n",
              "    </tr>\n",
              "    <tr>\n",
              "      <th>18</th>\n",
              "      <td>12462.0</td>\n",
              "      <td>Italy</td>\n",
              "    </tr>\n",
              "    <tr>\n",
              "      <th>19</th>\n",
              "      <td>24747.0</td>\n",
              "      <td>Italy</td>\n",
              "    </tr>\n",
              "    <tr>\n",
              "      <th>20</th>\n",
              "      <td>27980.0</td>\n",
              "      <td>Italy</td>\n",
              "    </tr>\n",
              "    <tr>\n",
              "      <th>21</th>\n",
              "      <td>31506.0</td>\n",
              "      <td>Italy</td>\n",
              "    </tr>\n",
              "    <tr>\n",
              "      <th>22</th>\n",
              "      <td>35713.0</td>\n",
              "      <td>Italy</td>\n",
              "    </tr>\n",
              "    <tr>\n",
              "      <th>23</th>\n",
              "      <td>41035.0</td>\n",
              "      <td>Italy</td>\n",
              "    </tr>\n",
              "    <tr>\n",
              "      <th>24</th>\n",
              "      <td>47021.0</td>\n",
              "      <td>Italy</td>\n",
              "    </tr>\n",
              "    <tr>\n",
              "      <th>25</th>\n",
              "      <td>53578.0</td>\n",
              "      <td>Italy</td>\n",
              "    </tr>\n",
              "    <tr>\n",
              "      <th>26</th>\n",
              "      <td>59138.0</td>\n",
              "      <td>Italy</td>\n",
              "    </tr>\n",
              "  </tbody>\n",
              "</table>\n",
              "</div>"
            ],
            "text/plain": [
              "    cum_confirmed country/region\n",
              "0            62.0          Italy\n",
              "1           155.0          Italy\n",
              "2           229.0          Italy\n",
              "3           322.0          Italy\n",
              "4           453.0          Italy\n",
              "5           655.0          Italy\n",
              "6           888.0          Italy\n",
              "7          1128.0          Italy\n",
              "8          1694.0          Italy\n",
              "9          2036.0          Italy\n",
              "10         2502.0          Italy\n",
              "11         3089.0          Italy\n",
              "12         3858.0          Italy\n",
              "13         4636.0          Italy\n",
              "14         5883.0          Italy\n",
              "15         7375.0          Italy\n",
              "16         9172.0          Italy\n",
              "17        10149.0          Italy\n",
              "18        12462.0          Italy\n",
              "19        24747.0          Italy\n",
              "20        27980.0          Italy\n",
              "21        31506.0          Italy\n",
              "22        35713.0          Italy\n",
              "23        41035.0          Italy\n",
              "24        47021.0          Italy\n",
              "25        53578.0          Italy\n",
              "26        59138.0          Italy"
            ]
          },
          "metadata": {
            "tags": []
          },
          "execution_count": 71
        }
      ]
    },
    {
      "cell_type": "code",
      "metadata": {
        "id": "n8LZ4_2UMEbr",
        "colab_type": "code",
        "colab": {
          "base_uri": "https://localhost:8080/",
          "height": 34
        },
        "outputId": "5ce6abab-a55b-4376-cdba-6354e4c13aba"
      },
      "source": [
        "df=pd.concat([italy,brazil]).reset_index().copy()\n",
        "df.columns\n"
      ],
      "execution_count": 81,
      "outputs": [
        {
          "output_type": "execute_result",
          "data": {
            "text/plain": [
              "Index(['index', 'cum_confirmed', 'country/region'], dtype='object')"
            ]
          },
          "metadata": {
            "tags": []
          },
          "execution_count": 81
        }
      ]
    },
    {
      "cell_type": "code",
      "metadata": {
        "id": "OyLdOY2zPUiW",
        "colab_type": "code",
        "colab": {
          "base_uri": "https://localhost:8080/",
          "height": 296
        },
        "outputId": "505fde33-61e0-4cbd-e26f-f2e8055c657d"
      },
      "source": [
        "df = df.pivot(index='index', columns='country/region', values='cum_confirmed')\n",
        "\n",
        "df.plot()"
      ],
      "execution_count": 83,
      "outputs": [
        {
          "output_type": "execute_result",
          "data": {
            "text/plain": [
              "<matplotlib.axes._subplots.AxesSubplot at 0x7f0f80b9b438>"
            ]
          },
          "metadata": {
            "tags": []
          },
          "execution_count": 83
        },
        {
          "output_type": "display_data",
          "data": {
            "image/png": "[encoded data removed]",
            "text/plain": [
              "<Figure size 432x288 with 1 Axes>"
            ]
          },
          "metadata": {
            "tags": []
          }
        }
      ]
    },
    {
      "cell_type": "markdown",
      "metadata": {
        "colab_type": "text",
        "id": "XjiQu56eMgvQ"
      },
      "source": [
        "## 1. Sanity Check\n",
        "### 1.1 Take a Brief Look at the data"
      ]
    },
    {
      "cell_type": "code",
      "metadata": {
        "colab_type": "code",
        "id": "z3cm-ThnMkVW",
        "outputId": "e78ec717-352e-47ef-b7f1-a97061b27207",
        "colab": {
          "base_uri": "https://localhost:8080/",
          "height": 759
        }
      },
      "source": [
        "fig = utils.tsplot_conf_dead_cured(jhs_frm[jhs_frm['country/region'] == 'South Korea'], \n",
        "                                   title='Confirmed, Dead, Cured within South Korea', figsize=(12, 8))"
      ],
      "execution_count": 24,
      "outputs": [
        {
          "output_type": "stream",
          "text": [
            "/usr/local/lib/python3.6/dist-packages/pandas/plotting/_matplotlib/tools.py:307: MatplotlibDeprecationWarning: \n",
            "The rowNum attribute was deprecated in Matplotlib 3.2 and will be removed two minor releases later. Use ax.get_subplotspec().rowspan.start instead.\n",
            "  layout[ax.rowNum, ax.colNum] = ax.get_visible()\n",
            "/usr/local/lib/python3.6/dist-packages/pandas/plotting/_matplotlib/tools.py:307: MatplotlibDeprecationWarning: \n",
            "The colNum attribute was deprecated in Matplotlib 3.2 and will be removed two minor releases later. Use ax.get_subplotspec().colspan.start instead.\n",
            "  layout[ax.rowNum, ax.colNum] = ax.get_visible()\n",
            "/usr/local/lib/python3.6/dist-packages/pandas/plotting/_matplotlib/tools.py:313: MatplotlibDeprecationWarning: \n",
            "The rowNum attribute was deprecated in Matplotlib 3.2 and will be removed two minor releases later. Use ax.get_subplotspec().rowspan.start instead.\n",
            "  if not layout[ax.rowNum + 1, ax.colNum]:\n",
            "/usr/local/lib/python3.6/dist-packages/pandas/plotting/_matplotlib/tools.py:313: MatplotlibDeprecationWarning: \n",
            "The colNum attribute was deprecated in Matplotlib 3.2 and will be removed two minor releases later. Use ax.get_subplotspec().colspan.start instead.\n",
            "  if not layout[ax.rowNum + 1, ax.colNum]:\n"
          ],
          "name": "stderr"
        },
        {
          "output_type": "display_data",
          "data": {
            "image/png": "[encoded data removed]",
            "text/plain": [
              "<Figure size 864x576 with 3 Axes>"
            ]
          },
          "metadata": {
            "tags": []
          }
        }
      ]
    },
    {
      "cell_type": "markdown",
      "metadata": {
        "colab_type": "text",
        "id": "2sFu8Jp5NIG2"
      },
      "source": [
        "## 2. Mortality Rate vs Confirmed Count"
      ]
    },
    {
      "cell_type": "code",
      "metadata": {
        "colab_type": "code",
        "id": "egit-TifdN9I",
        "outputId": "a0e58fd3-c8cc-41a0-cd91-2d0f478a245f",
        "colab": {
          "base_uri": "https://localhost:8080/",
          "height": 258
        }
      },
      "source": [
        "!pip install chart_studio"
      ],
      "execution_count": 25,
      "outputs": [
        {
          "output_type": "stream",
          "text": [
            "Collecting chart_studio\n",
            "\u001b[?25l  Downloading https://files.pythonhosted.org/packages/b9/3f/d2f3f506ba1aaf109f549f8b01d1483cd3e324c5ebe6b206acee66efdf46/chart_studio-1.0.0-py3-none-any.whl (76kB)\n",
            "\r\u001b[K     |████▎                           | 10kB 19.2MB/s eta 0:00:01\r\u001b[K     |████████▋                       | 20kB 1.8MB/s eta 0:00:01\r\u001b[K     |█████████████                   | 30kB 2.6MB/s eta 0:00:01\r\u001b[K     |█████████████████▏              | 40kB 1.7MB/s eta 0:00:01\r\u001b[K     |█████████████████████▌          | 51kB 2.1MB/s eta 0:00:01\r\u001b[K     |█████████████████████████▉      | 61kB 2.5MB/s eta 0:00:01\r\u001b[K     |██████████████████████████████▏ | 71kB 2.9MB/s eta 0:00:01\r\u001b[K     |████████████████████████████████| 81kB 2.6MB/s \n",
            "\u001b[?25hRequirement already satisfied: six in /usr/local/lib/python3.6/dist-packages (from chart_studio) (1.12.0)\n",
            "Requirement already satisfied: plotly in /usr/local/lib/python3.6/dist-packages (from chart_studio) (4.4.1)\n",
            "Requirement already satisfied: retrying>=1.3.3 in /usr/local/lib/python3.6/dist-packages (from chart_studio) (1.3.3)\n",
            "Requirement already satisfied: requests in /usr/local/lib/python3.6/dist-packages (from chart_studio) (2.21.0)\n",
            "Requirement already satisfied: certifi>=2017.4.17 in /usr/local/lib/python3.6/dist-packages (from requests->chart_studio) (2019.11.28)\n",
            "Requirement already satisfied: urllib3<1.25,>=1.21.1 in /usr/local/lib/python3.6/dist-packages (from requests->chart_studio) (1.24.3)\n",
            "Requirement already satisfied: idna<2.9,>=2.5 in /usr/local/lib/python3.6/dist-packages (from requests->chart_studio) (2.8)\n",
            "Requirement already satisfied: chardet<3.1.0,>=3.0.2 in /usr/local/lib/python3.6/dist-packages (from requests->chart_studio) (3.0.4)\n",
            "Installing collected packages: chart-studio\n",
            "Successfully installed chart-studio-1.0.0\n"
          ],
          "name": "stdout"
        }
      ]
    },
    {
      "cell_type": "code",
      "metadata": {
        "colab_type": "code",
        "id": "4OefTkNUvQ4t",
        "colab": {}
      },
      "source": [
        "import plotly.express as px\n",
        "import chart_studio\n",
        "import chart_studio.plotly as py\n",
        "import plotly.graph_objects as go\n",
        "import plotly.io as pio"
      ],
      "execution_count": 0,
      "outputs": []
    },
    {
      "cell_type": "code",
      "metadata": {
        "colab_type": "code",
        "id": "qYwdMHItYi4B",
        "colab": {}
      },
      "source": [
        "api_key  = ''  # use you own key\n",
        "user_name = ''  # use your own user name\n",
        "chart_studio.tools.set_credentials_file(username=user_name, api_key=api_key)"
      ],
      "execution_count": 0,
      "outputs": []
    },
    {
      "cell_type": "code",
      "metadata": {
        "colab_type": "code",
        "id": "0UyNzX7WdOi4",
        "colab": {}
      },
      "source": [
        "# most international data only has country info, so do not drill down to finer level now\n",
        "country_frm = jhs_frm.groupby(['country/region', 'update_date']).agg('sum')  "
      ],
      "execution_count": 0,
      "outputs": []
    },
    {
      "cell_type": "markdown",
      "metadata": {
        "colab_type": "text",
        "id": "Qa48ptEoBIZp"
      },
      "source": [
        "### Remove Some Data Problem\n",
        "Japan and US has some dates with negative new_confirm"
      ]
    },
    {
      "cell_type": "code",
      "metadata": {
        "colab_type": "code",
        "id": "jqkIWY7iA_YU",
        "outputId": "319fd8ec-e1bd-4c8e-a796-4603da536515",
        "colab": {
          "base_uri": "https://localhost:8080/",
          "height": 1000
        }
      },
      "source": [
        "country_frm[country_frm['new_confirmed'] < 0]"
      ],
      "execution_count": 29,
      "outputs": [
        {
          "output_type": "execute_result",
          "data": {
            "text/html": [
              "<div>\n",
              "<style scoped>\n",
              "    .dataframe tbody tr th:only-of-type {\n",
              "        vertical-align: middle;\n",
              "    }\n",
              "\n",
              "    .dataframe tbody tr th {\n",
              "        vertical-align: top;\n",
              "    }\n",
              "\n",
              "    .dataframe thead th {\n",
              "        text-align: right;\n",
              "    }\n",
              "</style>\n",
              "<table border=\"1\" class=\"dataframe\">\n",
              "  <thead>\n",
              "    <tr style=\"text-align: right;\">\n",
              "      <th></th>\n",
              "      <th></th>\n",
              "      <th>cum_confirmed</th>\n",
              "      <th>cum_dead</th>\n",
              "      <th>cum_cured</th>\n",
              "      <th>Latitude</th>\n",
              "      <th>Longitude</th>\n",
              "      <th>new_confirmed</th>\n",
              "      <th>new_dead</th>\n",
              "      <th>new_cured</th>\n",
              "    </tr>\n",
              "    <tr>\n",
              "      <th>country/region</th>\n",
              "      <th>update_date</th>\n",
              "      <th></th>\n",
              "      <th></th>\n",
              "      <th></th>\n",
              "      <th></th>\n",
              "      <th></th>\n",
              "      <th></th>\n",
              "      <th></th>\n",
              "      <th></th>\n",
              "    </tr>\n",
              "  </thead>\n",
              "  <tbody>\n",
              "    <tr>\n",
              "      <th>Albania</th>\n",
              "      <th>2020-03-12</th>\n",
              "      <td>23.0</td>\n",
              "      <td>1.0</td>\n",
              "      <td>0.0</td>\n",
              "      <td>41.1533</td>\n",
              "      <td>20.1683</td>\n",
              "      <td>-10.0</td>\n",
              "      <td>0.0</td>\n",
              "      <td>0.0</td>\n",
              "    </tr>\n",
              "    <tr>\n",
              "      <th>Algeria</th>\n",
              "      <th>2020-03-12</th>\n",
              "      <td>24.0</td>\n",
              "      <td>1.0</td>\n",
              "      <td>8.0</td>\n",
              "      <td>28.0339</td>\n",
              "      <td>1.6596</td>\n",
              "      <td>-2.0</td>\n",
              "      <td>-1.0</td>\n",
              "      <td>0.0</td>\n",
              "    </tr>\n",
              "    <tr>\n",
              "      <th>Armenia</th>\n",
              "      <th>2020-03-12</th>\n",
              "      <td>4.0</td>\n",
              "      <td>0.0</td>\n",
              "      <td>0.0</td>\n",
              "      <td>40.0691</td>\n",
              "      <td>45.0382</td>\n",
              "      <td>-4.0</td>\n",
              "      <td>0.0</td>\n",
              "      <td>0.0</td>\n",
              "    </tr>\n",
              "    <tr>\n",
              "      <th>Azerbaijan</th>\n",
              "      <th>2020-03-16</th>\n",
              "      <td>15.0</td>\n",
              "      <td>1.0</td>\n",
              "      <td>6.0</td>\n",
              "      <td>40.1431</td>\n",
              "      <td>47.5769</td>\n",
              "      <td>-8.0</td>\n",
              "      <td>0.0</td>\n",
              "      <td>0.0</td>\n",
              "    </tr>\n",
              "    <tr>\n",
              "      <th>Belarus</th>\n",
              "      <th>2020-03-12</th>\n",
              "      <td>12.0</td>\n",
              "      <td>0.0</td>\n",
              "      <td>3.0</td>\n",
              "      <td>53.7098</td>\n",
              "      <td>27.9534</td>\n",
              "      <td>-15.0</td>\n",
              "      <td>0.0</td>\n",
              "      <td>0.0</td>\n",
              "    </tr>\n",
              "    <tr>\n",
              "      <th>Canada</th>\n",
              "      <th>2020-03-12</th>\n",
              "      <td>97.0</td>\n",
              "      <td>1.0</td>\n",
              "      <td>8.0</td>\n",
              "      <td>157.9204</td>\n",
              "      <td>-286.5199</td>\n",
              "      <td>-49.0</td>\n",
              "      <td>0.0</td>\n",
              "      <td>0.0</td>\n",
              "    </tr>\n",
              "    <tr>\n",
              "      <th>Cape Verde</th>\n",
              "      <th>2020-03-22</th>\n",
              "      <td>0.0</td>\n",
              "      <td>0.0</td>\n",
              "      <td>0.0</td>\n",
              "      <td>15.1111</td>\n",
              "      <td>-23.6167</td>\n",
              "      <td>-1.0</td>\n",
              "      <td>0.0</td>\n",
              "      <td>0.0</td>\n",
              "    </tr>\n",
              "    <tr>\n",
              "      <th>Costa Rica</th>\n",
              "      <th>2020-03-12</th>\n",
              "      <td>22.0</td>\n",
              "      <td>0.0</td>\n",
              "      <td>0.0</td>\n",
              "      <td>9.7489</td>\n",
              "      <td>-83.7534</td>\n",
              "      <td>-1.0</td>\n",
              "      <td>0.0</td>\n",
              "      <td>0.0</td>\n",
              "    </tr>\n",
              "    <tr>\n",
              "      <th>Cuba</th>\n",
              "      <th>2020-03-12</th>\n",
              "      <td>3.0</td>\n",
              "      <td>0.0</td>\n",
              "      <td>0.0</td>\n",
              "      <td>22.0000</td>\n",
              "      <td>-80.0000</td>\n",
              "      <td>-1.0</td>\n",
              "      <td>0.0</td>\n",
              "      <td>0.0</td>\n",
              "    </tr>\n",
              "    <tr>\n",
              "      <th>Diamond Princess</th>\n",
              "      <th>2020-03-06</th>\n",
              "      <td>696.0</td>\n",
              "      <td>6.0</td>\n",
              "      <td>40.0</td>\n",
              "      <td>35.4437</td>\n",
              "      <td>139.6380</td>\n",
              "      <td>-10.0</td>\n",
              "      <td>0.0</td>\n",
              "      <td>30.0</td>\n",
              "    </tr>\n",
              "    <tr>\n",
              "      <th>East Timor</th>\n",
              "      <th>2020-03-22</th>\n",
              "      <td>0.0</td>\n",
              "      <td>0.0</td>\n",
              "      <td>0.0</td>\n",
              "      <td>-8.5500</td>\n",
              "      <td>125.5600</td>\n",
              "      <td>-1.0</td>\n",
              "      <td>0.0</td>\n",
              "      <td>0.0</td>\n",
              "    </tr>\n",
              "    <tr>\n",
              "      <th>Germany</th>\n",
              "      <th>2020-03-12</th>\n",
              "      <td>2078.0</td>\n",
              "      <td>3.0</td>\n",
              "      <td>25.0</td>\n",
              "      <td>51.0000</td>\n",
              "      <td>9.0000</td>\n",
              "      <td>-1597.0</td>\n",
              "      <td>-4.0</td>\n",
              "      <td>-21.0</td>\n",
              "    </tr>\n",
              "    <tr>\n",
              "      <th>Greenland</th>\n",
              "      <th>2020-03-19</th>\n",
              "      <td>0.0</td>\n",
              "      <td>0.0</td>\n",
              "      <td>0.0</td>\n",
              "      <td>72.0000</td>\n",
              "      <td>-40.0000</td>\n",
              "      <td>-1.0</td>\n",
              "      <td>0.0</td>\n",
              "      <td>0.0</td>\n",
              "    </tr>\n",
              "    <tr>\n",
              "      <th>Guam</th>\n",
              "      <th>2020-03-18</th>\n",
              "      <td>0.0</td>\n",
              "      <td>0.0</td>\n",
              "      <td>0.0</td>\n",
              "      <td>13.4443</td>\n",
              "      <td>144.7937</td>\n",
              "      <td>-3.0</td>\n",
              "      <td>0.0</td>\n",
              "      <td>0.0</td>\n",
              "    </tr>\n",
              "    <tr>\n",
              "      <th>Guernsey</th>\n",
              "      <th>2020-03-17</th>\n",
              "      <td>0.0</td>\n",
              "      <td>0.0</td>\n",
              "      <td>0.0</td>\n",
              "      <td>49.4500</td>\n",
              "      <td>-2.5800</td>\n",
              "      <td>-1.0</td>\n",
              "      <td>0.0</td>\n",
              "      <td>0.0</td>\n",
              "    </tr>\n",
              "    <tr>\n",
              "      <th>Iceland</th>\n",
              "      <th>2020-03-12</th>\n",
              "      <td>103.0</td>\n",
              "      <td>0.0</td>\n",
              "      <td>1.0</td>\n",
              "      <td>64.9631</td>\n",
              "      <td>-19.0208</td>\n",
              "      <td>-31.0</td>\n",
              "      <td>0.0</td>\n",
              "      <td>0.0</td>\n",
              "    </tr>\n",
              "    <tr>\n",
              "      <th>Iran</th>\n",
              "      <th>2020-03-12</th>\n",
              "      <td>10075.0</td>\n",
              "      <td>429.0</td>\n",
              "      <td>2959.0</td>\n",
              "      <td>32.0000</td>\n",
              "      <td>53.0000</td>\n",
              "      <td>-1289.0</td>\n",
              "      <td>-85.0</td>\n",
              "      <td>0.0</td>\n",
              "    </tr>\n",
              "    <tr>\n",
              "      <th>Jamaica</th>\n",
              "      <th>2020-03-12</th>\n",
              "      <td>2.0</td>\n",
              "      <td>0.0</td>\n",
              "      <td>0.0</td>\n",
              "      <td>18.1096</td>\n",
              "      <td>-77.2975</td>\n",
              "      <td>-6.0</td>\n",
              "      <td>0.0</td>\n",
              "      <td>0.0</td>\n",
              "    </tr>\n",
              "    <tr>\n",
              "      <th rowspan=\"3\" valign=\"top\">Japan</th>\n",
              "      <th>2020-01-23</th>\n",
              "      <td>1.0</td>\n",
              "      <td>0.0</td>\n",
              "      <td>0.0</td>\n",
              "      <td>0.0000</td>\n",
              "      <td>0.0000</td>\n",
              "      <td>-1.0</td>\n",
              "      <td>0.0</td>\n",
              "      <td>0.0</td>\n",
              "    </tr>\n",
              "    <tr>\n",
              "      <th>2020-02-07</th>\n",
              "      <td>25.0</td>\n",
              "      <td>0.0</td>\n",
              "      <td>1.0</td>\n",
              "      <td>0.0000</td>\n",
              "      <td>0.0000</td>\n",
              "      <td>-20.0</td>\n",
              "      <td>0.0</td>\n",
              "      <td>0.0</td>\n",
              "    </tr>\n",
              "    <tr>\n",
              "      <th>2020-03-16</th>\n",
              "      <td>825.0</td>\n",
              "      <td>27.0</td>\n",
              "      <td>144.0</td>\n",
              "      <td>36.2048</td>\n",
              "      <td>138.2529</td>\n",
              "      <td>-14.0</td>\n",
              "      <td>5.0</td>\n",
              "      <td>26.0</td>\n",
              "    </tr>\n",
              "    <tr>\n",
              "      <th>Jersey</th>\n",
              "      <th>2020-03-17</th>\n",
              "      <td>0.0</td>\n",
              "      <td>0.0</td>\n",
              "      <td>0.0</td>\n",
              "      <td>49.1900</td>\n",
              "      <td>-2.1100</td>\n",
              "      <td>-2.0</td>\n",
              "      <td>0.0</td>\n",
              "      <td>0.0</td>\n",
              "    </tr>\n",
              "    <tr>\n",
              "      <th rowspan=\"2\" valign=\"top\">Lebanon</th>\n",
              "      <th>2020-03-12</th>\n",
              "      <td>61.0</td>\n",
              "      <td>3.0</td>\n",
              "      <td>1.0</td>\n",
              "      <td>33.8547</td>\n",
              "      <td>35.8623</td>\n",
              "      <td>-16.0</td>\n",
              "      <td>0.0</td>\n",
              "      <td>0.0</td>\n",
              "    </tr>\n",
              "    <tr>\n",
              "      <th>2020-03-16</th>\n",
              "      <td>99.0</td>\n",
              "      <td>3.0</td>\n",
              "      <td>1.0</td>\n",
              "      <td>33.8547</td>\n",
              "      <td>35.8623</td>\n",
              "      <td>-11.0</td>\n",
              "      <td>0.0</td>\n",
              "      <td>0.0</td>\n",
              "    </tr>\n",
              "    <tr>\n",
              "      <th>Luxembourg</th>\n",
              "      <th>2020-03-12</th>\n",
              "      <td>19.0</td>\n",
              "      <td>0.0</td>\n",
              "      <td>0.0</td>\n",
              "      <td>49.8144</td>\n",
              "      <td>6.1317</td>\n",
              "      <td>-15.0</td>\n",
              "      <td>0.0</td>\n",
              "      <td>0.0</td>\n",
              "    </tr>\n",
              "    <tr>\n",
              "      <th>Mainland China</th>\n",
              "      <th>2020-03-11</th>\n",
              "      <td>0.0</td>\n",
              "      <td>0.0</td>\n",
              "      <td>0.0</td>\n",
              "      <td>74.1039</td>\n",
              "      <td>218.3492</td>\n",
              "      <td>-443.0</td>\n",
              "      <td>-8.0</td>\n",
              "      <td>-395.0</td>\n",
              "    </tr>\n",
              "    <tr>\n",
              "      <th>Montenegro</th>\n",
              "      <th>2020-03-18</th>\n",
              "      <td>1.0</td>\n",
              "      <td>0.0</td>\n",
              "      <td>0.0</td>\n",
              "      <td>42.7087</td>\n",
              "      <td>19.3744</td>\n",
              "      <td>-1.0</td>\n",
              "      <td>0.0</td>\n",
              "      <td>0.0</td>\n",
              "    </tr>\n",
              "    <tr>\n",
              "      <th>Morocco</th>\n",
              "      <th>2020-03-12</th>\n",
              "      <td>6.0</td>\n",
              "      <td>1.0</td>\n",
              "      <td>0.0</td>\n",
              "      <td>31.7917</td>\n",
              "      <td>-7.0926</td>\n",
              "      <td>-1.0</td>\n",
              "      <td>0.0</td>\n",
              "      <td>-1.0</td>\n",
              "    </tr>\n",
              "    <tr>\n",
              "      <th>Norway</th>\n",
              "      <th>2020-03-12</th>\n",
              "      <td>702.0</td>\n",
              "      <td>0.0</td>\n",
              "      <td>1.0</td>\n",
              "      <td>60.4720</td>\n",
              "      <td>8.4689</td>\n",
              "      <td>-294.0</td>\n",
              "      <td>0.0</td>\n",
              "      <td>0.0</td>\n",
              "    </tr>\n",
              "    <tr>\n",
              "      <th>Panama</th>\n",
              "      <th>2020-03-12</th>\n",
              "      <td>11.0</td>\n",
              "      <td>1.0</td>\n",
              "      <td>0.0</td>\n",
              "      <td>8.5380</td>\n",
              "      <td>-80.7821</td>\n",
              "      <td>-16.0</td>\n",
              "      <td>0.0</td>\n",
              "      <td>0.0</td>\n",
              "    </tr>\n",
              "    <tr>\n",
              "      <th>Peru</th>\n",
              "      <th>2020-03-12</th>\n",
              "      <td>15.0</td>\n",
              "      <td>0.0</td>\n",
              "      <td>0.0</td>\n",
              "      <td>-9.1900</td>\n",
              "      <td>-75.0152</td>\n",
              "      <td>-13.0</td>\n",
              "      <td>0.0</td>\n",
              "      <td>0.0</td>\n",
              "    </tr>\n",
              "    <tr>\n",
              "      <th>Philippines</th>\n",
              "      <th>2020-03-12</th>\n",
              "      <td>52.0</td>\n",
              "      <td>2.0</td>\n",
              "      <td>2.0</td>\n",
              "      <td>12.8797</td>\n",
              "      <td>121.7740</td>\n",
              "      <td>-12.0</td>\n",
              "      <td>-3.0</td>\n",
              "      <td>0.0</td>\n",
              "    </tr>\n",
              "    <tr>\n",
              "      <th>Puerto Rico</th>\n",
              "      <th>2020-03-17</th>\n",
              "      <td>0.0</td>\n",
              "      <td>0.0</td>\n",
              "      <td>0.0</td>\n",
              "      <td>18.2000</td>\n",
              "      <td>-66.5000</td>\n",
              "      <td>-3.0</td>\n",
              "      <td>0.0</td>\n",
              "      <td>0.0</td>\n",
              "    </tr>\n",
              "    <tr>\n",
              "      <th>Republic of the Congo</th>\n",
              "      <th>2020-03-17</th>\n",
              "      <td>0.0</td>\n",
              "      <td>0.0</td>\n",
              "      <td>0.0</td>\n",
              "      <td>-1.4400</td>\n",
              "      <td>15.5560</td>\n",
              "      <td>-1.0</td>\n",
              "      <td>0.0</td>\n",
              "      <td>0.0</td>\n",
              "    </tr>\n",
              "    <tr>\n",
              "      <th>Russia</th>\n",
              "      <th>2020-03-12</th>\n",
              "      <td>28.0</td>\n",
              "      <td>0.0</td>\n",
              "      <td>3.0</td>\n",
              "      <td>60.0000</td>\n",
              "      <td>90.0000</td>\n",
              "      <td>-17.0</td>\n",
              "      <td>0.0</td>\n",
              "      <td>0.0</td>\n",
              "    </tr>\n",
              "    <tr>\n",
              "      <th>Saint Barthelemy</th>\n",
              "      <th>2020-03-09</th>\n",
              "      <td>1.0</td>\n",
              "      <td>0.0</td>\n",
              "      <td>0.0</td>\n",
              "      <td>17.9000</td>\n",
              "      <td>-62.8333</td>\n",
              "      <td>-2.0</td>\n",
              "      <td>0.0</td>\n",
              "      <td>0.0</td>\n",
              "    </tr>\n",
              "    <tr>\n",
              "      <th>Saudi Arabia</th>\n",
              "      <th>2020-03-12</th>\n",
              "      <td>45.0</td>\n",
              "      <td>0.0</td>\n",
              "      <td>1.0</td>\n",
              "      <td>24.0000</td>\n",
              "      <td>45.0000</td>\n",
              "      <td>-41.0</td>\n",
              "      <td>0.0</td>\n",
              "      <td>0.0</td>\n",
              "    </tr>\n",
              "    <tr>\n",
              "      <th>Serbia</th>\n",
              "      <th>2020-03-12</th>\n",
              "      <td>19.0</td>\n",
              "      <td>0.0</td>\n",
              "      <td>0.0</td>\n",
              "      <td>44.0165</td>\n",
              "      <td>21.0059</td>\n",
              "      <td>-16.0</td>\n",
              "      <td>0.0</td>\n",
              "      <td>0.0</td>\n",
              "    </tr>\n",
              "    <tr>\n",
              "      <th>Slovakia</th>\n",
              "      <th>2020-03-12</th>\n",
              "      <td>16.0</td>\n",
              "      <td>0.0</td>\n",
              "      <td>0.0</td>\n",
              "      <td>48.6690</td>\n",
              "      <td>19.6990</td>\n",
              "      <td>-16.0</td>\n",
              "      <td>0.0</td>\n",
              "      <td>0.0</td>\n",
              "    </tr>\n",
              "    <tr>\n",
              "      <th>Slovenia</th>\n",
              "      <th>2020-03-12</th>\n",
              "      <td>89.0</td>\n",
              "      <td>0.0</td>\n",
              "      <td>0.0</td>\n",
              "      <td>46.1512</td>\n",
              "      <td>14.9955</td>\n",
              "      <td>-52.0</td>\n",
              "      <td>0.0</td>\n",
              "      <td>0.0</td>\n",
              "    </tr>\n",
              "    <tr>\n",
              "      <th>South Africa</th>\n",
              "      <th>2020-03-12</th>\n",
              "      <td>17.0</td>\n",
              "      <td>0.0</td>\n",
              "      <td>0.0</td>\n",
              "      <td>-30.5595</td>\n",
              "      <td>22.9375</td>\n",
              "      <td>-7.0</td>\n",
              "      <td>0.0</td>\n",
              "      <td>0.0</td>\n",
              "    </tr>\n",
              "    <tr>\n",
              "      <th>Sweden</th>\n",
              "      <th>2020-03-12</th>\n",
              "      <td>599.0</td>\n",
              "      <td>1.0</td>\n",
              "      <td>1.0</td>\n",
              "      <td>63.0000</td>\n",
              "      <td>16.0000</td>\n",
              "      <td>-215.0</td>\n",
              "      <td>0.0</td>\n",
              "      <td>0.0</td>\n",
              "    </tr>\n",
              "    <tr>\n",
              "      <th>Thailand</th>\n",
              "      <th>2020-03-12</th>\n",
              "      <td>70.0</td>\n",
              "      <td>1.0</td>\n",
              "      <td>34.0</td>\n",
              "      <td>15.8700</td>\n",
              "      <td>100.9925</td>\n",
              "      <td>-5.0</td>\n",
              "      <td>0.0</td>\n",
              "      <td>-1.0</td>\n",
              "    </tr>\n",
              "    <tr>\n",
              "      <th>The Bahamas</th>\n",
              "      <th>2020-03-19</th>\n",
              "      <td>0.0</td>\n",
              "      <td>0.0</td>\n",
              "      <td>0.0</td>\n",
              "      <td>24.2500</td>\n",
              "      <td>-76.0000</td>\n",
              "      <td>-1.0</td>\n",
              "      <td>0.0</td>\n",
              "      <td>0.0</td>\n",
              "    </tr>\n",
              "    <tr>\n",
              "      <th>The Gambia</th>\n",
              "      <th>2020-03-18</th>\n",
              "      <td>0.0</td>\n",
              "      <td>0.0</td>\n",
              "      <td>0.0</td>\n",
              "      <td>13.4667</td>\n",
              "      <td>-16.6000</td>\n",
              "      <td>-1.0</td>\n",
              "      <td>0.0</td>\n",
              "      <td>0.0</td>\n",
              "    </tr>\n",
              "    <tr>\n",
              "      <th>occupied Palestinian territory</th>\n",
              "      <th>2020-03-11</th>\n",
              "      <td>0.0</td>\n",
              "      <td>0.0</td>\n",
              "      <td>0.0</td>\n",
              "      <td>31.9522</td>\n",
              "      <td>35.2332</td>\n",
              "      <td>-25.0</td>\n",
              "      <td>0.0</td>\n",
              "      <td>0.0</td>\n",
              "    </tr>\n",
              "  </tbody>\n",
              "</table>\n",
              "</div>"
            ],
            "text/plain": [
              "                                            cum_confirmed  ...  new_cured\n",
              "country/region                 update_date                 ...           \n",
              "Albania                        2020-03-12            23.0  ...        0.0\n",
              "Algeria                        2020-03-12            24.0  ...        0.0\n",
              "Armenia                        2020-03-12             4.0  ...        0.0\n",
              "Azerbaijan                     2020-03-16            15.0  ...        0.0\n",
              "Belarus                        2020-03-12            12.0  ...        0.0\n",
              "Canada                         2020-03-12            97.0  ...        0.0\n",
              "Cape Verde                     2020-03-22             0.0  ...        0.0\n",
              "Costa Rica                     2020-03-12            22.0  ...        0.0\n",
              "Cuba                           2020-03-12             3.0  ...        0.0\n",
              "Diamond Princess               2020-03-06           696.0  ...       30.0\n",
              "East Timor                     2020-03-22             0.0  ...        0.0\n",
              "Germany                        2020-03-12          2078.0  ...      -21.0\n",
              "Greenland                      2020-03-19             0.0  ...        0.0\n",
              "Guam                           2020-03-18             0.0  ...        0.0\n",
              "Guernsey                       2020-03-17             0.0  ...        0.0\n",
              "Iceland                        2020-03-12           103.0  ...        0.0\n",
              "Iran                           2020-03-12         10075.0  ...        0.0\n",
              "Jamaica                        2020-03-12             2.0  ...        0.0\n",
              "Japan                          2020-01-23             1.0  ...        0.0\n",
              "                               2020-02-07            25.0  ...        0.0\n",
              "                               2020-03-16           825.0  ...       26.0\n",
              "Jersey                         2020-03-17             0.0  ...        0.0\n",
              "Lebanon                        2020-03-12            61.0  ...        0.0\n",
              "                               2020-03-16            99.0  ...        0.0\n",
              "Luxembourg                     2020-03-12            19.0  ...        0.0\n",
              "Mainland China                 2020-03-11             0.0  ...     -395.0\n",
              "Montenegro                     2020-03-18             1.0  ...        0.0\n",
              "Morocco                        2020-03-12             6.0  ...       -1.0\n",
              "Norway                         2020-03-12           702.0  ...        0.0\n",
              "Panama                         2020-03-12            11.0  ...        0.0\n",
              "Peru                           2020-03-12            15.0  ...        0.0\n",
              "Philippines                    2020-03-12            52.0  ...        0.0\n",
              "Puerto Rico                    2020-03-17             0.0  ...        0.0\n",
              "Republic of the Congo          2020-03-17             0.0  ...        0.0\n",
              "Russia                         2020-03-12            28.0  ...        0.0\n",
              "Saint Barthelemy               2020-03-09             1.0  ...        0.0\n",
              "Saudi Arabia                   2020-03-12            45.0  ...        0.0\n",
              "Serbia                         2020-03-12            19.0  ...        0.0\n",
              "Slovakia                       2020-03-12            16.0  ...        0.0\n",
              "Slovenia                       2020-03-12            89.0  ...        0.0\n",
              "South Africa                   2020-03-12            17.0  ...        0.0\n",
              "Sweden                         2020-03-12           599.0  ...        0.0\n",
              "Thailand                       2020-03-12            70.0  ...       -1.0\n",
              "The Bahamas                    2020-03-19             0.0  ...        0.0\n",
              "The Gambia                     2020-03-18             0.0  ...        0.0\n",
              "occupied Palestinian territory 2020-03-11             0.0  ...        0.0\n",
              "\n",
              "[46 rows x 8 columns]"
            ]
          },
          "metadata": {
            "tags": []
          },
          "execution_count": 29
        }
      ]
    },
    {
      "cell_type": "code",
      "metadata": {
        "colab_type": "code",
        "id": "7oPc6od1f15U",
        "colab": {}
      },
      "source": [
        "country_frm['new_confirmed'] = np.maximum(0, country_frm['new_confirmed'])   # Japan 1/23, 2/7, US 2/24 have new confirmed < 0, looks like data error"
      ],
      "execution_count": 0,
      "outputs": []
    },
    {
      "cell_type": "markdown",
      "metadata": {
        "colab_type": "text",
        "id": "lab92pyKBh7D"
      },
      "source": [
        "### Add Mortality Rate, Moving Average, etc"
      ]
    },
    {
      "cell_type": "code",
      "metadata": {
        "colab_type": "code",
        "id": "dAruDomBdcnV",
        "colab": {}
      },
      "source": [
        "country_frm['mortality_rate'] = country_frm['cum_dead'] / country_frm['cum_confirmed']\n",
        "country_frm = utils.add_moving_average(country_frm, ['country/region'], win_size=3)"
      ],
      "execution_count": 0,
      "outputs": []
    },
    {
      "cell_type": "code",
      "metadata": {
        "colab_type": "code",
        "id": "fen9OlCfhp2C",
        "colab": {}
      },
      "source": [
        "# The following columns are mainly for plot rendering\n",
        "country_frm['new_confirmed_logMA'] = np.log10(country_frm['new_confirmed_MA'] + 2)\n",
        "color_countries = ['Mainland China', 'Japan', 'South Korea', 'Iran', 'Italy', 'Germany', \n",
        "                   'US', 'France', 'Spain', 'Diamond Princess', 'Thailandl', 'Taiwan', 'Hong Kong',\n",
        "                   'Singapore', 'UK', 'Iraq']\n",
        "country_frm['color'] = np.where(country_frm.index.get_level_values('country/region').isin(color_countries), \n",
        "                                country_frm.index.get_level_values('country/region'), \n",
        "                                'Other')\n",
        "country_ex_china = country_frm[country_frm.index.get_level_values('country/region') != 'Mainland China']"
      ],
      "execution_count": 0,
      "outputs": []
    },
    {
      "cell_type": "code",
      "metadata": {
        "colab_type": "code",
        "id": "-MJWr8js6QL9",
        "outputId": "8bfc4038-bf75-4a9b-899c-11c50d8b75b6",
        "colab": {
          "base_uri": "https://localhost:8080/",
          "height": 607
        }
      },
      "source": [
        "fig = utils.cross_sectional_bar(country_ex_china.reset_index(), '2020-03-03', 'cum_confirmed', 'country/region', 10,\n",
        "                                title='Top 10 contry/region with the most confirmed cases outside Mainland China')"
      ],
      "execution_count": 33,
      "outputs": [
        {
          "output_type": "display_data",
          "data": {
            "image/png": "[encoded data removed]",
            "text/plain": [
              "<Figure size 936x720 with 1 Axes>"
            ]
          },
          "metadata": {
            "tags": []
          }
        }
      ]
    },
    {
      "cell_type": "markdown",
      "metadata": {
        "colab_type": "text",
        "id": "Jk6hdHhOYXj4"
      },
      "source": [
        "#### Flashback to 2020-02-26"
      ]
    },
    {
      "cell_type": "code",
      "metadata": {
        "colab_type": "code",
        "id": "XDNY6GZ9crP3",
        "outputId": "25eccdd8-d42f-4579-e4a3-2ff6c6e5d385",
        "colab": {
          "base_uri": "https://localhost:8080/",
          "height": 542
        }
      },
      "source": [
        "date = datetime.date(2020, 2, 26)\n",
        "frm = country_ex_china.loc[(slice(None), date), :].reset_index()\n",
        "#frm = frm[frm['cum_confirmed'] >= 5]  # only show countries with more than 5 confirmed cases\n",
        "frm = frm[frm['color'] != 'Other']\n",
        "fig = px.scatter(frm,\n",
        "                 x='cum_confirmed', \n",
        "                 y='mortality_rate',  \n",
        "                 size='new_confirmed_logMA', \n",
        "                 size_max=frm['new_confirmed_logMA'].max() * 8,\n",
        "                 color='color',\n",
        "                 text='country/region',\n",
        "                 #color_continuous_scale=px.colors.sequential.Jet,\n",
        "                 hover_data=['country/region', 'cum_dead', 'cum_confirmed', 'new_confirmed', 'new_dead'],\n",
        "                 title='Mortality Rate vs Confirmed by Country/Region as of ' + str(date))\n",
        "fig.update_layout(xaxis_type=\"log\", xaxis_title='Confirmed Count', yaxis_title='Mortality Rate')\n",
        "fig.layout.yaxis.tickformat = ',.1%'  # set display to % format\n",
        "# add lines to split the region\n",
        "fig.add_trace(go.Scatter(x=[100, 100], y=[-0.01, 0.15], mode=\"lines\", line={'dash': 'dot', 'color': 'orange'}))\n",
        "fig.add_trace(go.Scatter(x=[500, 500], y=[-0.01, 0.15], mode=\"lines\", line={'dash': 'dot', 'color': 'orange'}))\n",
        "fig.add_trace(go.Scatter(x=[4, 2000], y=[0.02, 0.02], mode=\"lines\", line={'dash': 'dot', 'color': 'orange'}))\n",
        "fig.add_trace(go.Scatter(x=[4, 2000], y=[0.01, 0.01], mode=\"lines\", line={'dash': 'dot', 'color': 'orange'}))\n",
        "fig.update_traces(textposition='top center')\n",
        "\n",
        "fig.show()"
      ],
      "execution_count": 34,
      "outputs": [
        {
          "output_type": "display_data",
          "data": {
            "text/html": [
              "<html>\n",
              "<head><meta charset=\"utf-8\" /></head>\n",
              "<body>\n",
              "    <div>\n",
              "            <script src=\"https://cdnjs.cloudflare.com/ajax/libs/mathjax/2.7.5/MathJax.js?config=TeX-AMS-MML_SVG\"></script><script type=\"text/javascript\">if (window.MathJax) {MathJax.Hub.Config({SVG: {font: \"STIX-Web\"}});}</script>\n",
              "                <script type=\"text/javascript\">window.PlotlyConfig = {MathJaxConfig: 'local'};</script>\n",
              "        <script src=\"https://cdn.plot.ly/plotly-latest.min.js\"></script>    \n",
              "            <div id=\"1580cc31-c8c7-41f6-98e2-a60eb3774baf\" class=\"plotly-graph-div\" style=\"height:525px; width:100%;\"></div>\n",
              "            <script type=\"text/javascript\">\n",
              "                \n",
              "                    window.PLOTLYENV=window.PLOTLYENV || {};\n",
              "                    \n",
              "                if (document.getElementById(\"1580cc31-c8c7-41f6-98e2-a60eb3774baf\")) {\n",
              "                    Plotly.newPlot(\n",
              "                        '1580cc31-c8c7-41f6-98e2-a60eb3774baf',\n",
              "                        [{\"customdata\": [[\"Diamond Princess\", 4.0, 705.0, 14.0, 1.0]], \"hoverlabel\": {\"namelength\": 0}, \"hovertemplate\": \"color=Diamond Princess<br>cum_confirmed=%{customdata[2]}<br>mortality_rate=%{y}<br>new_confirmed_logMA=%{marker.size}<br>country/region=%{text}<br>cum_dead=%{customdata[1]}<br>new_confirmed=%{customdata[3]}<br>new_dead=%{customdata[4]}\", \"legendgroup\": \"color=Diamond Princess\", \"marker\": {\"color\": \"#636efa\", \"size\": [1.4771212547196624], \"sizemode\": \"area\", \"sizeref\": 0.006661123501843994, \"symbol\": \"circle\"}, \"mode\": \"markers+text\", \"name\": \"color=Diamond Princess\", \"showlegend\": true, \"text\": [\"Diamond Princess\"], \"textposition\": \"top center\", \"type\": \"scatter\", \"x\": [705.0], \"xaxis\": \"x\", \"y\": [0.005673758865248227], \"yaxis\": \"y\"}, {\"customdata\": [[\"France\", 2.0, 18.0, 4.0, 1.0]], \"hoverlabel\": {\"namelength\": 0}, \"hovertemplate\": \"color=France<br>cum_confirmed=%{customdata[2]}<br>mortality_rate=%{y}<br>new_confirmed_logMA=%{marker.size}<br>country/region=%{text}<br>cum_dead=%{customdata[1]}<br>new_confirmed=%{customdata[3]}<br>new_dead=%{customdata[4]}\", \"legendgroup\": \"color=France\", \"marker\": {\"color\": \"#EF553B\", \"size\": [0.6368220975871743], \"sizemode\": \"area\", \"sizeref\": 0.006661123501843994, \"symbol\": \"circle\"}, \"mode\": \"markers+text\", \"name\": \"color=France\", \"showlegend\": true, \"text\": [\"France\"], \"textposition\": \"top center\", \"type\": \"scatter\", \"x\": [18.0], \"xaxis\": \"x\", \"y\": [0.1111111111111111], \"yaxis\": \"y\"}, {\"customdata\": [[\"Germany\", 0.0, 27.0, 10.0, 0.0]], \"hoverlabel\": {\"namelength\": 0}, \"hovertemplate\": \"color=Germany<br>cum_confirmed=%{customdata[2]}<br>mortality_rate=%{y}<br>new_confirmed_logMA=%{marker.size}<br>country/region=%{text}<br>cum_dead=%{customdata[1]}<br>new_confirmed=%{customdata[3]}<br>new_dead=%{customdata[4]}\", \"legendgroup\": \"color=Germany\", \"marker\": {\"color\": \"#00cc96\", \"size\": [0.7533276666586115], \"sizemode\": \"area\", \"sizeref\": 0.006661123501843994, \"symbol\": \"circle\"}, \"mode\": \"markers+text\", \"name\": \"color=Germany\", \"showlegend\": true, \"text\": [\"Germany\"], \"textposition\": \"top center\", \"type\": \"scatter\", \"x\": [27.0], \"xaxis\": \"x\", \"y\": [0.0], \"yaxis\": \"y\"}, {\"customdata\": [[\"Hong Kong\", 2.0, 91.0, 7.0, 0.0]], \"hoverlabel\": {\"namelength\": 0}, \"hovertemplate\": \"color=Hong Kong<br>cum_confirmed=%{customdata[2]}<br>mortality_rate=%{y}<br>new_confirmed_logMA=%{marker.size}<br>country/region=%{text}<br>cum_dead=%{customdata[1]}<br>new_confirmed=%{customdata[3]}<br>new_dead=%{customdata[4]}\", \"legendgroup\": \"color=Hong Kong\", \"marker\": {\"color\": \"#ab63fa\", \"size\": [0.8846065812979305], \"sizemode\": \"area\", \"sizeref\": 0.006661123501843994, \"symbol\": \"circle\"}, \"mode\": \"markers+text\", \"name\": \"color=Hong Kong\", \"showlegend\": true, \"text\": [\"Hong Kong\"], \"textposition\": \"top center\", \"type\": \"scatter\", \"x\": [91.0], \"xaxis\": \"x\", \"y\": [0.02197802197802198], \"yaxis\": \"y\"}, {\"customdata\": [[\"Iran\", 19.0, 139.0, 44.0, 3.0]], \"hoverlabel\": {\"namelength\": 0}, \"hovertemplate\": \"color=Iran<br>cum_confirmed=%{customdata[2]}<br>mortality_rate=%{y}<br>new_confirmed_logMA=%{marker.size}<br>country/region=%{text}<br>cum_dead=%{customdata[1]}<br>new_confirmed=%{customdata[3]}<br>new_dead=%{customdata[4]}\", \"legendgroup\": \"color=Iran\", \"marker\": {\"color\": \"#FFA15A\", \"size\": [1.5314789170422551], \"sizemode\": \"area\", \"sizeref\": 0.006661123501843994, \"symbol\": \"circle\"}, \"mode\": \"markers+text\", \"name\": \"color=Iran\", \"showlegend\": true, \"text\": [\"Iran\"], \"textposition\": \"top center\", \"type\": \"scatter\", \"x\": [139.0], \"xaxis\": \"x\", \"y\": [0.1366906474820144], \"yaxis\": \"y\"}, {\"customdata\": [[\"Iraq\", 0.0, 5.0, 4.0, 0.0]], \"hoverlabel\": {\"namelength\": 0}, \"hovertemplate\": \"color=Iraq<br>cum_confirmed=%{customdata[2]}<br>mortality_rate=%{y}<br>new_confirmed_logMA=%{marker.size}<br>country/region=%{text}<br>cum_dead=%{customdata[1]}<br>new_confirmed=%{customdata[3]}<br>new_dead=%{customdata[4]}\", \"legendgroup\": \"color=Iraq\", \"marker\": {\"color\": \"#19d3f3\", \"size\": [0.5642714304385626], \"sizemode\": \"area\", \"sizeref\": 0.006661123501843994, \"symbol\": \"circle\"}, \"mode\": \"markers+text\", \"name\": \"color=Iraq\", \"showlegend\": true, \"text\": [\"Iraq\"], \"textposition\": \"top center\", \"type\": \"scatter\", \"x\": [5.0], \"xaxis\": \"x\", \"y\": [0.0], \"yaxis\": \"y\"}, {\"customdata\": [[\"Italy\", 12.0, 453.0, 131.0, 2.0]], \"hoverlabel\": {\"namelength\": 0}, \"hovertemplate\": \"color=Italy<br>cum_confirmed=%{customdata[2]}<br>mortality_rate=%{y}<br>new_confirmed_logMA=%{marker.size}<br>country/region=%{text}<br>cum_dead=%{customdata[1]}<br>new_confirmed=%{customdata[3]}<br>new_dead=%{customdata[4]}\", \"legendgroup\": \"color=Italy\", \"marker\": {\"color\": \"#FF6692\", \"size\": [2.0057523288890913], \"sizemode\": \"area\", \"sizeref\": 0.006661123501843994, \"symbol\": \"circle\"}, \"mode\": \"markers+text\", \"name\": \"color=Italy\", \"showlegend\": true, \"text\": [\"Italy\"], \"textposition\": \"top center\", \"type\": \"scatter\", \"x\": [453.0], \"xaxis\": \"x\", \"y\": [0.026490066225165563], \"yaxis\": \"y\"}, {\"customdata\": [[\"Japan\", 2.0, 189.0, 19.0, 1.0]], \"hoverlabel\": {\"namelength\": 0}, \"hovertemplate\": \"color=Japan<br>cum_confirmed=%{customdata[2]}<br>mortality_rate=%{y}<br>new_confirmed_logMA=%{marker.size}<br>country/region=%{text}<br>cum_dead=%{customdata[1]}<br>new_confirmed=%{customdata[3]}<br>new_dead=%{customdata[4]}\", \"legendgroup\": \"color=Japan\", \"marker\": {\"color\": \"#B6E880\", \"size\": [1.2041199826559248], \"sizemode\": \"area\", \"sizeref\": 0.006661123501843994, \"symbol\": \"circle\"}, \"mode\": \"markers+text\", \"name\": \"color=Japan\", \"showlegend\": true, \"text\": [\"Japan\"], \"textposition\": \"top center\", \"type\": \"scatter\", \"x\": [189.0], \"xaxis\": \"x\", \"y\": [0.010582010582010581], \"yaxis\": \"y\"}, {\"customdata\": [[\"Singapore\", 0.0, 93.0, 2.0, 0.0]], \"hoverlabel\": {\"namelength\": 0}, \"hovertemplate\": \"color=Singapore<br>cum_confirmed=%{customdata[2]}<br>mortality_rate=%{y}<br>new_confirmed_logMA=%{marker.size}<br>country/region=%{text}<br>cum_dead=%{customdata[1]}<br>new_confirmed=%{customdata[3]}<br>new_dead=%{customdata[4]}\", \"legendgroup\": \"color=Singapore\", \"marker\": {\"color\": \"#FF97FF\", \"size\": [0.6690067809585756], \"sizemode\": \"area\", \"sizeref\": 0.006661123501843994, \"symbol\": \"circle\"}, \"mode\": \"markers+text\", \"name\": \"color=Singapore\", \"showlegend\": true, \"text\": [\"Singapore\"], \"textposition\": \"top center\", \"type\": \"scatter\", \"x\": [93.0], \"xaxis\": \"x\", \"y\": [0.0], \"yaxis\": \"y\"}, {\"customdata\": [[\"South Korea\", 12.0, 1261.0, 284.0, 2.0]], \"hoverlabel\": {\"namelength\": 0}, \"hovertemplate\": \"color=South Korea<br>cum_confirmed=%{customdata[2]}<br>mortality_rate=%{y}<br>new_confirmed_logMA=%{marker.size}<br>country/region=%{text}<br>cum_dead=%{customdata[1]}<br>new_confirmed=%{customdata[3]}<br>new_dead=%{customdata[4]}\", \"legendgroup\": \"color=South Korea\", \"marker\": {\"color\": \"#FECB52\", \"size\": [2.345700390583442], \"sizemode\": \"area\", \"sizeref\": 0.006661123501843994, \"symbol\": \"circle\"}, \"mode\": \"markers+text\", \"name\": \"color=South Korea\", \"showlegend\": true, \"text\": [\"South Korea\"], \"textposition\": \"top center\", \"type\": \"scatter\", \"x\": [1261.0], \"xaxis\": \"x\", \"y\": [0.00951625693893735], \"yaxis\": \"y\"}, {\"customdata\": [[\"Spain\", 0.0, 13.0, 7.0, 0.0]], \"hoverlabel\": {\"namelength\": 0}, \"hovertemplate\": \"color=Spain<br>cum_confirmed=%{customdata[2]}<br>mortality_rate=%{y}<br>new_confirmed_logMA=%{marker.size}<br>country/region=%{text}<br>cum_dead=%{customdata[1]}<br>new_confirmed=%{customdata[3]}<br>new_dead=%{customdata[4]}\", \"legendgroup\": \"color=Spain\", \"marker\": {\"color\": \"#636efa\", \"size\": [0.7533276666586115], \"sizemode\": \"area\", \"sizeref\": 0.006661123501843994, \"symbol\": \"circle\"}, \"mode\": \"markers+text\", \"name\": \"color=Spain\", \"showlegend\": true, \"text\": [\"Spain\"], \"textposition\": \"top center\", \"type\": \"scatter\", \"x\": [13.0], \"xaxis\": \"x\", \"y\": [0.0], \"yaxis\": \"y\"}, {\"customdata\": [[\"Taiwan\", 1.0, 32.0, 1.0, 0.0]], \"hoverlabel\": {\"namelength\": 0}, \"hovertemplate\": \"color=Taiwan<br>cum_confirmed=%{customdata[2]}<br>mortality_rate=%{y}<br>new_confirmed_logMA=%{marker.size}<br>country/region=%{text}<br>cum_dead=%{customdata[1]}<br>new_confirmed=%{customdata[3]}<br>new_dead=%{customdata[4]}\", \"legendgroup\": \"color=Taiwan\", \"marker\": {\"color\": \"#EF553B\", \"size\": [0.5228787452803375], \"sizemode\": \"area\", \"sizeref\": 0.006661123501843994, \"symbol\": \"circle\"}, \"mode\": \"markers+text\", \"name\": \"color=Taiwan\", \"showlegend\": true, \"text\": [\"Taiwan\"], \"textposition\": \"top center\", \"type\": \"scatter\", \"x\": [32.0], \"xaxis\": \"x\", \"y\": [0.03125], \"yaxis\": \"y\"}, {\"customdata\": [[\"US\", 0.0, 42.0, 6.0, 0.0]], \"hoverlabel\": {\"namelength\": 0}, \"hovertemplate\": \"color=US<br>cum_confirmed=%{customdata[2]}<br>mortality_rate=%{y}<br>new_confirmed_logMA=%{marker.size}<br>country/region=%{text}<br>cum_dead=%{customdata[1]}<br>new_confirmed=%{customdata[3]}<br>new_dead=%{customdata[4]}\", \"legendgroup\": \"color=US\", \"marker\": {\"color\": \"#00cc96\", \"size\": [1.0], \"sizemode\": \"area\", \"sizeref\": 0.006661123501843994, \"symbol\": \"circle\"}, \"mode\": \"markers+text\", \"name\": \"color=US\", \"showlegend\": true, \"text\": [\"US\"], \"textposition\": \"top center\", \"type\": \"scatter\", \"x\": [42.0], \"xaxis\": \"x\", \"y\": [0.0], \"yaxis\": \"y\"}, {\"line\": {\"color\": \"orange\", \"dash\": \"dot\"}, \"mode\": \"lines\", \"textposition\": \"top center\", \"type\": \"scatter\", \"x\": [100, 100], \"y\": [-0.01, 0.15]}, {\"line\": {\"color\": \"orange\", \"dash\": \"dot\"}, \"mode\": \"lines\", \"textposition\": \"top center\", \"type\": \"scatter\", \"x\": [500, 500], \"y\": [-0.01, 0.15]}, {\"line\": {\"color\": \"orange\", \"dash\": \"dot\"}, \"mode\": \"lines\", \"textposition\": \"top center\", \"type\": \"scatter\", \"x\": [4, 2000], \"y\": [0.02, 0.02]}, {\"line\": {\"color\": \"orange\", \"dash\": \"dot\"}, \"mode\": \"lines\", \"textposition\": \"top center\", \"type\": \"scatter\", \"x\": [4, 2000], \"y\": [0.01, 0.01]}],\n",
              "                        {\"legend\": {\"itemsizing\": \"constant\", \"tracegroupgap\": 0}, \"template\": {\"data\": {\"bar\": [{\"error_x\": {\"color\": \"#2a3f5f\"}, \"error_y\": {\"color\": \"#2a3f5f\"}, \"marker\": {\"line\": {\"color\": \"#E5ECF6\", \"width\": 0.5}}, \"type\": \"bar\"}], \"barpolar\": [{\"marker\": {\"line\": {\"color\": \"#E5ECF6\", \"width\": 0.5}}, \"type\": \"barpolar\"}], \"carpet\": [{\"aaxis\": {\"endlinecolor\": \"#2a3f5f\", \"gridcolor\": \"white\", \"linecolor\": \"white\", \"minorgridcolor\": \"white\", \"startlinecolor\": \"#2a3f5f\"}, \"baxis\": {\"endlinecolor\": \"#2a3f5f\", \"gridcolor\": \"white\", \"linecolor\": \"white\", \"minorgridcolor\": \"white\", \"startlinecolor\": \"#2a3f5f\"}, \"type\": \"carpet\"}], \"choropleth\": [{\"colorbar\": {\"outlinewidth\": 0, \"ticks\": \"\"}, \"type\": \"choropleth\"}], \"contour\": [{\"colorbar\": {\"outlinewidth\": 0, \"ticks\": \"\"}, \"colorscale\": [[0.0, \"#0d0887\"], [0.1111111111111111, \"#46039f\"], [0.2222222222222222, \"#7201a8\"], [0.3333333333333333, \"#9c179e\"], [0.4444444444444444, \"#bd3786\"], [0.5555555555555556, \"#d8576b\"], [0.6666666666666666, \"#ed7953\"], [0.7777777777777778, \"#fb9f3a\"], [0.8888888888888888, \"#fdca26\"], [1.0, \"#f0f921\"]], \"type\": \"contour\"}], \"contourcarpet\": [{\"colorbar\": {\"outlinewidth\": 0, \"ticks\": \"\"}, \"type\": \"contourcarpet\"}], \"heatmap\": [{\"colorbar\": {\"outlinewidth\": 0, \"ticks\": \"\"}, \"colorscale\": [[0.0, \"#0d0887\"], [0.1111111111111111, \"#46039f\"], [0.2222222222222222, \"#7201a8\"], [0.3333333333333333, \"#9c179e\"], [0.4444444444444444, \"#bd3786\"], [0.5555555555555556, \"#d8576b\"], [0.6666666666666666, \"#ed7953\"], [0.7777777777777778, \"#fb9f3a\"], [0.8888888888888888, \"#fdca26\"], [1.0, \"#f0f921\"]], \"type\": \"heatmap\"}], \"heatmapgl\": [{\"colorbar\": {\"outlinewidth\": 0, \"ticks\": \"\"}, \"colorscale\": [[0.0, \"#0d0887\"], [0.1111111111111111, \"#46039f\"], [0.2222222222222222, \"#7201a8\"], [0.3333333333333333, \"#9c179e\"], [0.4444444444444444, \"#bd3786\"], [0.5555555555555556, \"#d8576b\"], [0.6666666666666666, \"#ed7953\"], [0.7777777777777778, \"#fb9f3a\"], [0.8888888888888888, \"#fdca26\"], [1.0, \"#f0f921\"]], \"type\": \"heatmapgl\"}], \"histogram\": [{\"marker\": {\"colorbar\": {\"outlinewidth\": 0, \"ticks\": \"\"}}, \"type\": \"histogram\"}], \"histogram2d\": [{\"colorbar\": {\"outlinewidth\": 0, \"ticks\": \"\"}, \"colorscale\": [[0.0, \"#0d0887\"], [0.1111111111111111, \"#46039f\"], [0.2222222222222222, \"#7201a8\"], [0.3333333333333333, \"#9c179e\"], [0.4444444444444444, \"#bd3786\"], [0.5555555555555556, \"#d8576b\"], [0.6666666666666666, \"#ed7953\"], [0.7777777777777778, \"#fb9f3a\"], [0.8888888888888888, \"#fdca26\"], [1.0, \"#f0f921\"]], \"type\": \"histogram2d\"}], \"histogram2dcontour\": [{\"colorbar\": {\"outlinewidth\": 0, \"ticks\": \"\"}, \"colorscale\": [[0.0, \"#0d0887\"], [0.1111111111111111, \"#46039f\"], [0.2222222222222222, \"#7201a8\"], [0.3333333333333333, \"#9c179e\"], [0.4444444444444444, \"#bd3786\"], [0.5555555555555556, \"#d8576b\"], [0.6666666666666666, \"#ed7953\"], [0.7777777777777778, \"#fb9f3a\"], [0.8888888888888888, \"#fdca26\"], [1.0, \"#f0f921\"]], \"type\": \"histogram2dcontour\"}], \"mesh3d\": [{\"colorbar\": {\"outlinewidth\": 0, \"ticks\": \"\"}, \"type\": \"mesh3d\"}], \"parcoords\": [{\"line\": {\"colorbar\": {\"outlinewidth\": 0, \"ticks\": \"\"}}, \"type\": \"parcoords\"}], \"pie\": [{\"automargin\": true, \"type\": \"pie\"}], \"scatter\": [{\"marker\": {\"colorbar\": {\"outlinewidth\": 0, \"ticks\": \"\"}}, \"type\": \"scatter\"}], \"scatter3d\": [{\"line\": {\"colorbar\": {\"outlinewidth\": 0, \"ticks\": \"\"}}, \"marker\": {\"colorbar\": {\"outlinewidth\": 0, \"ticks\": \"\"}}, \"type\": \"scatter3d\"}], \"scattercarpet\": [{\"marker\": {\"colorbar\": {\"outlinewidth\": 0, \"ticks\": \"\"}}, \"type\": \"scattercarpet\"}], \"scattergeo\": [{\"marker\": {\"colorbar\": {\"outlinewidth\": 0, \"ticks\": \"\"}}, \"type\": \"scattergeo\"}], \"scattergl\": [{\"marker\": {\"colorbar\": {\"outlinewidth\": 0, \"ticks\": \"\"}}, \"type\": \"scattergl\"}], \"scattermapbox\": [{\"marker\": {\"colorbar\": {\"outlinewidth\": 0, \"ticks\": \"\"}}, \"type\": \"scattermapbox\"}], \"scatterpolar\": [{\"marker\": {\"colorbar\": {\"outlinewidth\": 0, \"ticks\": \"\"}}, \"type\": \"scatterpolar\"}], \"scatterpolargl\": [{\"marker\": {\"colorbar\": {\"outlinewidth\": 0, \"ticks\": \"\"}}, \"type\": \"scatterpolargl\"}], \"scatterternary\": [{\"marker\": {\"colorbar\": {\"outlinewidth\": 0, \"ticks\": \"\"}}, \"type\": \"scatterternary\"}], \"surface\": [{\"colorbar\": {\"outlinewidth\": 0, \"ticks\": \"\"}, \"colorscale\": [[0.0, \"#0d0887\"], [0.1111111111111111, \"#46039f\"], [0.2222222222222222, \"#7201a8\"], [0.3333333333333333, \"#9c179e\"], [0.4444444444444444, \"#bd3786\"], [0.5555555555555556, \"#d8576b\"], [0.6666666666666666, \"#ed7953\"], [0.7777777777777778, \"#fb9f3a\"], [0.8888888888888888, \"#fdca26\"], [1.0, \"#f0f921\"]], \"type\": \"surface\"}], \"table\": [{\"cells\": {\"fill\": {\"color\": \"#EBF0F8\"}, \"line\": {\"color\": \"white\"}}, \"header\": {\"fill\": {\"color\": \"#C8D4E3\"}, \"line\": {\"color\": \"white\"}}, \"type\": \"table\"}]}, \"layout\": {\"annotationdefaults\": {\"arrowcolor\": \"#2a3f5f\", \"arrowhead\": 0, \"arrowwidth\": 1}, \"coloraxis\": {\"colorbar\": {\"outlinewidth\": 0, \"ticks\": \"\"}}, \"colorscale\": {\"diverging\": [[0, \"#8e0152\"], [0.1, \"#c51b7d\"], [0.2, \"#de77ae\"], [0.3, \"#f1b6da\"], [0.4, \"#fde0ef\"], [0.5, \"#f7f7f7\"], [0.6, \"#e6f5d0\"], [0.7, \"#b8e186\"], [0.8, \"#7fbc41\"], [0.9, \"#4d9221\"], [1, \"#276419\"]], \"sequential\": [[0.0, \"#0d0887\"], [0.1111111111111111, \"#46039f\"], [0.2222222222222222, \"#7201a8\"], [0.3333333333333333, \"#9c179e\"], [0.4444444444444444, \"#bd3786\"], [0.5555555555555556, \"#d8576b\"], [0.6666666666666666, \"#ed7953\"], [0.7777777777777778, \"#fb9f3a\"], [0.8888888888888888, \"#fdca26\"], [1.0, \"#f0f921\"]], \"sequentialminus\": [[0.0, \"#0d0887\"], [0.1111111111111111, \"#46039f\"], [0.2222222222222222, \"#7201a8\"], [0.3333333333333333, \"#9c179e\"], [0.4444444444444444, \"#bd3786\"], [0.5555555555555556, \"#d8576b\"], [0.6666666666666666, \"#ed7953\"], [0.7777777777777778, \"#fb9f3a\"], [0.8888888888888888, \"#fdca26\"], [1.0, \"#f0f921\"]]}, \"colorway\": [\"#636efa\", \"#EF553B\", \"#00cc96\", \"#ab63fa\", \"#FFA15A\", \"#19d3f3\", \"#FF6692\", \"#B6E880\", \"#FF97FF\", \"#FECB52\"], \"font\": {\"color\": \"#2a3f5f\"}, \"geo\": {\"bgcolor\": \"white\", \"lakecolor\": \"white\", \"landcolor\": \"#E5ECF6\", \"showlakes\": true, \"showland\": true, \"subunitcolor\": \"white\"}, \"hoverlabel\": {\"align\": \"left\"}, \"hovermode\": \"closest\", \"mapbox\": {\"style\": \"light\"}, \"paper_bgcolor\": \"white\", \"plot_bgcolor\": \"#E5ECF6\", \"polar\": {\"angularaxis\": {\"gridcolor\": \"white\", \"linecolor\": \"white\", \"ticks\": \"\"}, \"bgcolor\": \"#E5ECF6\", \"radialaxis\": {\"gridcolor\": \"white\", \"linecolor\": \"white\", \"ticks\": \"\"}}, \"scene\": {\"xaxis\": {\"backgroundcolor\": \"#E5ECF6\", \"gridcolor\": \"white\", \"gridwidth\": 2, \"linecolor\": \"white\", \"showbackground\": true, \"ticks\": \"\", \"zerolinecolor\": \"white\"}, \"yaxis\": {\"backgroundcolor\": \"#E5ECF6\", \"gridcolor\": \"white\", \"gridwidth\": 2, \"linecolor\": \"white\", \"showbackground\": true, \"ticks\": \"\", \"zerolinecolor\": \"white\"}, \"zaxis\": {\"backgroundcolor\": \"#E5ECF6\", \"gridcolor\": \"white\", \"gridwidth\": 2, \"linecolor\": \"white\", \"showbackground\": true, \"ticks\": \"\", \"zerolinecolor\": \"white\"}}, \"shapedefaults\": {\"line\": {\"color\": \"#2a3f5f\"}}, \"ternary\": {\"aaxis\": {\"gridcolor\": \"white\", \"linecolor\": \"white\", \"ticks\": \"\"}, \"baxis\": {\"gridcolor\": \"white\", \"linecolor\": \"white\", \"ticks\": \"\"}, \"bgcolor\": \"#E5ECF6\", \"caxis\": {\"gridcolor\": \"white\", \"linecolor\": \"white\", \"ticks\": \"\"}}, \"title\": {\"x\": 0.05}, \"xaxis\": {\"automargin\": true, \"gridcolor\": \"white\", \"linecolor\": \"white\", \"ticks\": \"\", \"title\": {\"standoff\": 15}, \"zerolinecolor\": \"white\", \"zerolinewidth\": 2}, \"yaxis\": {\"automargin\": true, \"gridcolor\": \"white\", \"linecolor\": \"white\", \"ticks\": \"\", \"title\": {\"standoff\": 15}, \"zerolinecolor\": \"white\", \"zerolinewidth\": 2}}}, \"title\": {\"text\": \"Mortality Rate vs Confirmed by Country/Region as of 2020-02-26\"}, \"xaxis\": {\"anchor\": \"y\", \"domain\": [0.0, 1.0], \"title\": {\"text\": \"Confirmed Count\"}, \"type\": \"log\"}, \"yaxis\": {\"anchor\": \"x\", \"domain\": [0.0, 1.0], \"tickformat\": \",.1%\", \"title\": {\"text\": \"Mortality Rate\"}}},\n",
              "                        {\"responsive\": true}\n",
              "                    ).then(function(){\n",
              "                            \n",
              "var gd = document.getElementById('1580cc31-c8c7-41f6-98e2-a60eb3774baf');\n",
              "var x = new MutationObserver(function (mutations, observer) {{\n",
              "        var display = window.getComputedStyle(gd).display;\n",
              "        if (!display || display === 'none') {{\n",
              "            console.log([gd, 'removed!']);\n",
              "            Plotly.purge(gd);\n",
              "            observer.disconnect();\n",
              "        }}\n",
              "}});\n",
              "\n",
              "// Listen for the removal of the full notebook cells\n",
              "var notebookContainer = gd.closest('#notebook-container');\n",
              "if (notebookContainer) {{\n",
              "    x.observe(notebookContainer, {childList: true});\n",
              "}}\n",
              "\n",
              "// Listen for the clearing of the current output cell\n",
              "var outputEl = gd.closest('.output');\n",
              "if (outputEl) {{\n",
              "    x.observe(outputEl, {childList: true});\n",
              "}}\n",
              "\n",
              "                        })\n",
              "                };\n",
              "                \n",
              "            </script>\n",
              "        </div>\n",
              "</body>\n",
              "</html>"
            ]
          },
          "metadata": {
            "tags": []
          }
        }
      ]
    },
    {
      "cell_type": "code",
      "metadata": {
        "colab_type": "code",
        "id": "YMVTki9CUzUW",
        "colab": {}
      },
      "source": [
        "pio.write_html(fig, file='index.html', auto_open=True)"
      ],
      "execution_count": 0,
      "outputs": []
    },
    {
      "cell_type": "markdown",
      "metadata": {
        "colab_type": "text",
        "id": "GacAyzmYlBHo"
      },
      "source": [
        "### 2020-03-02"
      ]
    },
    {
      "cell_type": "code",
      "metadata": {
        "colab_type": "code",
        "id": "X21VlK93WnAj",
        "outputId": "1dcd7b8c-5df6-4c82-fbd1-8bdd5c31b094",
        "colab": {
          "base_uri": "https://localhost:8080/",
          "height": 542
        }
      },
      "source": [
        "date = datetime.date(2020, 3, 22)\n",
        "frm = country_ex_china.loc[(slice(None), date), :].reset_index()\n",
        "#frm = frm[frm['cum_confirmed'] >= 5]  # only show countries with more than 5 confirmed cases\n",
        "frm = frm[frm['color'] != 'Other']\n",
        "fig = px.scatter(frm,\n",
        "                 x='cum_confirmed', \n",
        "                 y='mortality_rate',  \n",
        "                 size='new_confirmed_logMA', \n",
        "                 size_max=frm['new_confirmed_logMA'].max() * 8,\n",
        "                 color='color',\n",
        "                 text='country/region',\n",
        "                 #color_continuous_scale=px.colors.sequential.Jet,\n",
        "                 hover_data=['country/region', 'cum_dead', 'cum_confirmed', 'new_confirmed', 'new_dead'],\n",
        "                 title='Mortality Rate vs Confirmed by Country/Region as of ' + str(date))\n",
        "fig.update_layout(xaxis_type=\"log\", xaxis_title='Confirmed Count', yaxis_title='Mortality Rate')\n",
        "fig.layout.yaxis.tickformat = ',.1%'  # set display to % format\n",
        "fig.update_traces(textposition='top center')\n",
        "# add lines to split the region\n",
        "fig.add_trace(go.Scatter(x=[100, 100], y=[-0.01, 0.08], mode=\"lines\", line={'dash': 'dot', 'color': 'orange'}))\n",
        "fig.add_trace(go.Scatter(x=[500, 500], y=[-0.01, 0.08], mode=\"lines\", line={'dash': 'dot', 'color': 'orange'}))\n",
        "fig.add_trace(go.Scatter(x=[20, 5000], y=[0.02, 0.02], mode=\"lines\", line={'dash': 'dot', 'color': 'orange'}))\n",
        "fig.add_trace(go.Scatter(x=[20, 5000], y=[0.01, 0.01], mode=\"lines\", line={'dash': 'dot', 'color': 'orange'}))\n",
        "fig.show()"
      ],
      "execution_count": 39,
      "outputs": [
        {
          "output_type": "display_data",
          "data": {
            "text/html": [
              "<html>\n",
              "<head><meta charset=\"utf-8\" /></head>\n",
              "<body>\n",
              "    <div>\n",
              "            <script src=\"https://cdnjs.cloudflare.com/ajax/libs/mathjax/2.7.5/MathJax.js?config=TeX-AMS-MML_SVG\"></script><script type=\"text/javascript\">if (window.MathJax) {MathJax.Hub.Config({SVG: {font: \"STIX-Web\"}});}</script>\n",
              "                <script type=\"text/javascript\">window.PlotlyConfig = {MathJaxConfig: 'local'};</script>\n",
              "        <script src=\"https://cdn.plot.ly/plotly-latest.min.js\"></script>    \n",
              "            <div id=\"26fe7332-de9a-4729-ab16-69a1ca675b92\" class=\"plotly-graph-div\" style=\"height:525px; width:100%;\"></div>\n",
              "            <script type=\"text/javascript\">\n",
              "                \n",
              "                    window.PLOTLYENV=window.PLOTLYENV || {};\n",
              "                    \n",
              "                if (document.getElementById(\"26fe7332-de9a-4729-ab16-69a1ca675b92\")) {\n",
              "                    Plotly.newPlot(\n",
              "                        '26fe7332-de9a-4729-ab16-69a1ca675b92',\n",
              "                        [{\"customdata\": [[\"France\", 674.0, 16018.0, 1736.0, 112.0]], \"hoverlabel\": {\"namelength\": 0}, \"hovertemplate\": \"color=France<br>cum_confirmed=%{customdata[2]}<br>mortality_rate=%{y}<br>new_confirmed_logMA=%{marker.size}<br>country/region=%{text}<br>cum_dead=%{customdata[1]}<br>new_confirmed=%{customdata[3]}<br>new_dead=%{customdata[4]}\", \"legendgroup\": \"color=France\", \"marker\": {\"color\": \"#636efa\", \"size\": [3.2358649788747202], \"sizemode\": \"area\", \"sizeref\": 0.004095411323744138, \"symbol\": \"circle\"}, \"mode\": \"markers+text\", \"name\": \"color=France\", \"showlegend\": true, \"text\": [\"France\"], \"textposition\": \"top center\", \"type\": \"scatter\", \"x\": [16018.0], \"xaxis\": \"x\", \"y\": [0.04207766262954177], \"yaxis\": \"y\"}, {\"customdata\": [[\"Germany\", 94.0, 24873.0, 2660.0, 10.0]], \"hoverlabel\": {\"namelength\": 0}, \"hovertemplate\": \"color=Germany<br>cum_confirmed=%{customdata[2]}<br>mortality_rate=%{y}<br>new_confirmed_logMA=%{marker.size}<br>country/region=%{text}<br>cum_dead=%{customdata[1]}<br>new_confirmed=%{customdata[3]}<br>new_dead=%{customdata[4]}\", \"legendgroup\": \"color=Germany\", \"marker\": {\"color\": \"#EF553B\", \"size\": [3.503291206887229], \"sizemode\": \"area\", \"sizeref\": 0.004095411323744138, \"symbol\": \"circle\"}, \"mode\": \"markers+text\", \"name\": \"color=Germany\", \"showlegend\": true, \"text\": [\"Germany\"], \"textposition\": \"top center\", \"type\": \"scatter\", \"x\": [24873.0], \"xaxis\": \"x\", \"y\": [0.0037791983275037187], \"yaxis\": \"y\"}, {\"customdata\": [[\"Iran\", 1685.0, 21638.0, 1028.0, 129.0]], \"hoverlabel\": {\"namelength\": 0}, \"hovertemplate\": \"color=Iran<br>cum_confirmed=%{customdata[2]}<br>mortality_rate=%{y}<br>new_confirmed_logMA=%{marker.size}<br>country/region=%{text}<br>cum_dead=%{customdata[1]}<br>new_confirmed=%{customdata[3]}<br>new_dead=%{customdata[4]}\", \"legendgroup\": \"color=Iran\", \"marker\": {\"color\": \"#00cc96\", \"size\": [3.0330214446829107], \"sizemode\": \"area\", \"sizeref\": 0.004095411323744138, \"symbol\": \"circle\"}, \"mode\": \"markers+text\", \"name\": \"color=Iran\", \"showlegend\": true, \"text\": [\"Iran\"], \"textposition\": \"top center\", \"type\": \"scatter\", \"x\": [21638.0], \"xaxis\": \"x\", \"y\": [0.0778722617617155], \"yaxis\": \"y\"}, {\"customdata\": [[\"Iraq\", 20.0, 233.0, 19.0, 3.0]], \"hoverlabel\": {\"namelength\": 0}, \"hovertemplate\": \"color=Iraq<br>cum_confirmed=%{customdata[2]}<br>mortality_rate=%{y}<br>new_confirmed_logMA=%{marker.size}<br>country/region=%{text}<br>cum_dead=%{customdata[1]}<br>new_confirmed=%{customdata[3]}<br>new_dead=%{customdata[4]}\", \"legendgroup\": \"color=Iraq\", \"marker\": {\"color\": \"#ab63fa\", \"size\": [1.194976603216055], \"sizemode\": \"area\", \"sizeref\": 0.004095411323744138, \"symbol\": \"circle\"}, \"mode\": \"markers+text\", \"name\": \"color=Iraq\", \"showlegend\": true, \"text\": [\"Iraq\"], \"textposition\": \"top center\", \"type\": \"scatter\", \"x\": [233.0], \"xaxis\": \"x\", \"y\": [0.08583690987124463], \"yaxis\": \"y\"}, {\"customdata\": [[\"Italy\", 5476.0, 59138.0, 5560.0, 651.0]], \"hoverlabel\": {\"namelength\": 0}, \"hovertemplate\": \"color=Italy<br>cum_confirmed=%{customdata[2]}<br>mortality_rate=%{y}<br>new_confirmed_logMA=%{marker.size}<br>country/region=%{text}<br>cum_dead=%{customdata[1]}<br>new_confirmed=%{customdata[3]}<br>new_dead=%{customdata[4]}\", \"legendgroup\": \"color=Italy\", \"marker\": {\"color\": \"#FFA15A\", \"size\": [3.7807732140111376], \"sizemode\": \"area\", \"sizeref\": 0.004095411323744138, \"symbol\": \"circle\"}, \"mode\": \"markers+text\", \"name\": \"color=Italy\", \"showlegend\": true, \"text\": [\"Italy\"], \"textposition\": \"top center\", \"type\": \"scatter\", \"x\": [59138.0], \"xaxis\": \"x\", \"y\": [0.09259697656329263], \"yaxis\": \"y\"}, {\"customdata\": [[\"Japan\", 40.0, 1086.0, 79.0, 5.0]], \"hoverlabel\": {\"namelength\": 0}, \"hovertemplate\": \"color=Japan<br>cum_confirmed=%{customdata[2]}<br>mortality_rate=%{y}<br>new_confirmed_logMA=%{marker.size}<br>country/region=%{text}<br>cum_dead=%{customdata[1]}<br>new_confirmed=%{customdata[3]}<br>new_dead=%{customdata[4]}\", \"legendgroup\": \"color=Japan\", \"marker\": {\"color\": \"#19d3f3\", \"size\": [1.7481880270062005], \"sizemode\": \"area\", \"sizeref\": 0.004095411323744138, \"symbol\": \"circle\"}, \"mode\": \"markers+text\", \"name\": \"color=Japan\", \"showlegend\": true, \"text\": [\"Japan\"], \"textposition\": \"top center\", \"type\": \"scatter\", \"x\": [1086.0], \"xaxis\": \"x\", \"y\": [0.03683241252302026], \"yaxis\": \"y\"}, {\"customdata\": [[\"Singapore\", 2.0, 455.0, 23.0, 0.0]], \"hoverlabel\": {\"namelength\": 0}, \"hovertemplate\": \"color=Singapore<br>cum_confirmed=%{customdata[2]}<br>mortality_rate=%{y}<br>new_confirmed_logMA=%{marker.size}<br>country/region=%{text}<br>cum_dead=%{customdata[1]}<br>new_confirmed=%{customdata[3]}<br>new_dead=%{customdata[4]}\", \"legendgroup\": \"color=Singapore\", \"marker\": {\"color\": \"#FF6692\", \"size\": [1.587336734507256], \"sizemode\": \"area\", \"sizeref\": 0.004095411323744138, \"symbol\": \"circle\"}, \"mode\": \"markers+text\", \"name\": \"color=Singapore\", \"showlegend\": true, \"text\": [\"Singapore\"], \"textposition\": \"top center\", \"type\": \"scatter\", \"x\": [455.0], \"xaxis\": \"x\", \"y\": [0.004395604395604396], \"yaxis\": \"y\"}, {\"customdata\": [[\"Spain\", 1772.0, 28768.0, 3394.0, 397.0]], \"hoverlabel\": {\"namelength\": 0}, \"hovertemplate\": \"color=Spain<br>cum_confirmed=%{customdata[2]}<br>mortality_rate=%{y}<br>new_confirmed_logMA=%{marker.size}<br>country/region=%{text}<br>cum_dead=%{customdata[1]}<br>new_confirmed=%{customdata[3]}<br>new_dead=%{customdata[4]}\", \"legendgroup\": \"color=Spain\", \"marker\": {\"color\": \"#B6E880\", \"size\": [3.5567446126282376], \"sizemode\": \"area\", \"sizeref\": 0.004095411323744138, \"symbol\": \"circle\"}, \"mode\": \"markers+text\", \"name\": \"color=Spain\", \"showlegend\": true, \"text\": [\"Spain\"], \"textposition\": \"top center\", \"type\": \"scatter\", \"x\": [28768.0], \"xaxis\": \"x\", \"y\": [0.06159621802002225], \"yaxis\": \"y\"}, {\"customdata\": [[\"US\", 417.0, 33193.0, 7783.0, 110.0]], \"hoverlabel\": {\"namelength\": 0}, \"hovertemplate\": \"color=US<br>cum_confirmed=%{customdata[2]}<br>mortality_rate=%{y}<br>new_confirmed_logMA=%{marker.size}<br>country/region=%{text}<br>cum_dead=%{customdata[1]}<br>new_confirmed=%{customdata[3]}<br>new_dead=%{customdata[4]}\", \"legendgroup\": \"color=US\", \"marker\": {\"color\": \"#FF97FF\", \"size\": [3.8152455919165633], \"sizemode\": \"area\", \"sizeref\": 0.004095411323744138, \"symbol\": \"circle\"}, \"mode\": \"markers+text\", \"name\": \"color=US\", \"showlegend\": true, \"text\": [\"US\"], \"textposition\": \"top center\", \"type\": \"scatter\", \"x\": [33193.0], \"xaxis\": \"x\", \"y\": [0.0125628897659145], \"yaxis\": \"y\"}, {\"line\": {\"color\": \"orange\", \"dash\": \"dot\"}, \"mode\": \"lines\", \"type\": \"scatter\", \"x\": [100, 100], \"y\": [-0.01, 0.08]}, {\"line\": {\"color\": \"orange\", \"dash\": \"dot\"}, \"mode\": \"lines\", \"type\": \"scatter\", \"x\": [500, 500], \"y\": [-0.01, 0.08]}, {\"line\": {\"color\": \"orange\", \"dash\": \"dot\"}, \"mode\": \"lines\", \"type\": \"scatter\", \"x\": [20, 5000], \"y\": [0.02, 0.02]}, {\"line\": {\"color\": \"orange\", \"dash\": \"dot\"}, \"mode\": \"lines\", \"type\": \"scatter\", \"x\": [20, 5000], \"y\": [0.01, 0.01]}],\n",
              "                        {\"legend\": {\"itemsizing\": \"constant\", \"tracegroupgap\": 0}, \"template\": {\"data\": {\"bar\": [{\"error_x\": {\"color\": \"#2a3f5f\"}, \"error_y\": {\"color\": \"#2a3f5f\"}, \"marker\": {\"line\": {\"color\": \"#E5ECF6\", \"width\": 0.5}}, \"type\": \"bar\"}], \"barpolar\": [{\"marker\": {\"line\": {\"color\": \"#E5ECF6\", \"width\": 0.5}}, \"type\": \"barpolar\"}], \"carpet\": [{\"aaxis\": {\"endlinecolor\": \"#2a3f5f\", \"gridcolor\": \"white\", \"linecolor\": \"white\", \"minorgridcolor\": \"white\", \"startlinecolor\": \"#2a3f5f\"}, \"baxis\": {\"endlinecolor\": \"#2a3f5f\", \"gridcolor\": \"white\", \"linecolor\": \"white\", \"minorgridcolor\": \"white\", \"startlinecolor\": \"#2a3f5f\"}, \"type\": \"carpet\"}], \"choropleth\": [{\"colorbar\": {\"outlinewidth\": 0, \"ticks\": \"\"}, \"type\": \"choropleth\"}], \"contour\": [{\"colorbar\": {\"outlinewidth\": 0, \"ticks\": \"\"}, \"colorscale\": [[0.0, \"#0d0887\"], [0.1111111111111111, \"#46039f\"], [0.2222222222222222, \"#7201a8\"], [0.3333333333333333, \"#9c179e\"], [0.4444444444444444, \"#bd3786\"], [0.5555555555555556, \"#d8576b\"], [0.6666666666666666, \"#ed7953\"], [0.7777777777777778, \"#fb9f3a\"], [0.8888888888888888, \"#fdca26\"], [1.0, \"#f0f921\"]], \"type\": \"contour\"}], \"contourcarpet\": [{\"colorbar\": {\"outlinewidth\": 0, \"ticks\": \"\"}, \"type\": \"contourcarpet\"}], \"heatmap\": [{\"colorbar\": {\"outlinewidth\": 0, \"ticks\": \"\"}, \"colorscale\": [[0.0, \"#0d0887\"], [0.1111111111111111, \"#46039f\"], [0.2222222222222222, \"#7201a8\"], [0.3333333333333333, \"#9c179e\"], [0.4444444444444444, \"#bd3786\"], [0.5555555555555556, \"#d8576b\"], [0.6666666666666666, \"#ed7953\"], [0.7777777777777778, \"#fb9f3a\"], [0.8888888888888888, \"#fdca26\"], [1.0, \"#f0f921\"]], \"type\": \"heatmap\"}], \"heatmapgl\": [{\"colorbar\": {\"outlinewidth\": 0, \"ticks\": \"\"}, \"colorscale\": [[0.0, \"#0d0887\"], [0.1111111111111111, \"#46039f\"], [0.2222222222222222, \"#7201a8\"], [0.3333333333333333, \"#9c179e\"], [0.4444444444444444, \"#bd3786\"], [0.5555555555555556, \"#d8576b\"], [0.6666666666666666, \"#ed7953\"], [0.7777777777777778, \"#fb9f3a\"], [0.8888888888888888, \"#fdca26\"], [1.0, \"#f0f921\"]], \"type\": \"heatmapgl\"}], \"histogram\": [{\"marker\": {\"colorbar\": {\"outlinewidth\": 0, \"ticks\": \"\"}}, \"type\": \"histogram\"}], \"histogram2d\": [{\"colorbar\": {\"outlinewidth\": 0, \"ticks\": \"\"}, \"colorscale\": [[0.0, \"#0d0887\"], [0.1111111111111111, \"#46039f\"], [0.2222222222222222, \"#7201a8\"], [0.3333333333333333, \"#9c179e\"], [0.4444444444444444, \"#bd3786\"], [0.5555555555555556, \"#d8576b\"], [0.6666666666666666, \"#ed7953\"], [0.7777777777777778, \"#fb9f3a\"], [0.8888888888888888, \"#fdca26\"], [1.0, \"#f0f921\"]], \"type\": \"histogram2d\"}], \"histogram2dcontour\": [{\"colorbar\": {\"outlinewidth\": 0, \"ticks\": \"\"}, \"colorscale\": [[0.0, \"#0d0887\"], [0.1111111111111111, \"#46039f\"], [0.2222222222222222, \"#7201a8\"], [0.3333333333333333, \"#9c179e\"], [0.4444444444444444, \"#bd3786\"], [0.5555555555555556, \"#d8576b\"], [0.6666666666666666, \"#ed7953\"], [0.7777777777777778, \"#fb9f3a\"], [0.8888888888888888, \"#fdca26\"], [1.0, \"#f0f921\"]], \"type\": \"histogram2dcontour\"}], \"mesh3d\": [{\"colorbar\": {\"outlinewidth\": 0, \"ticks\": \"\"}, \"type\": \"mesh3d\"}], \"parcoords\": [{\"line\": {\"colorbar\": {\"outlinewidth\": 0, \"ticks\": \"\"}}, \"type\": \"parcoords\"}], \"pie\": [{\"automargin\": true, \"type\": \"pie\"}], \"scatter\": [{\"marker\": {\"colorbar\": {\"outlinewidth\": 0, \"ticks\": \"\"}}, \"type\": \"scatter\"}], \"scatter3d\": [{\"line\": {\"colorbar\": {\"outlinewidth\": 0, \"ticks\": \"\"}}, \"marker\": {\"colorbar\": {\"outlinewidth\": 0, \"ticks\": \"\"}}, \"type\": \"scatter3d\"}], \"scattercarpet\": [{\"marker\": {\"colorbar\": {\"outlinewidth\": 0, \"ticks\": \"\"}}, \"type\": \"scattercarpet\"}], \"scattergeo\": [{\"marker\": {\"colorbar\": {\"outlinewidth\": 0, \"ticks\": \"\"}}, \"type\": \"scattergeo\"}], \"scattergl\": [{\"marker\": {\"colorbar\": {\"outlinewidth\": 0, \"ticks\": \"\"}}, \"type\": \"scattergl\"}], \"scattermapbox\": [{\"marker\": {\"colorbar\": {\"outlinewidth\": 0, \"ticks\": \"\"}}, \"type\": \"scattermapbox\"}], \"scatterpolar\": [{\"marker\": {\"colorbar\": {\"outlinewidth\": 0, \"ticks\": \"\"}}, \"type\": \"scatterpolar\"}], \"scatterpolargl\": [{\"marker\": {\"colorbar\": {\"outlinewidth\": 0, \"ticks\": \"\"}}, \"type\": \"scatterpolargl\"}], \"scatterternary\": [{\"marker\": {\"colorbar\": {\"outlinewidth\": 0, \"ticks\": \"\"}}, \"type\": \"scatterternary\"}], \"surface\": [{\"colorbar\": {\"outlinewidth\": 0, \"ticks\": \"\"}, \"colorscale\": [[0.0, \"#0d0887\"], [0.1111111111111111, \"#46039f\"], [0.2222222222222222, \"#7201a8\"], [0.3333333333333333, \"#9c179e\"], [0.4444444444444444, \"#bd3786\"], [0.5555555555555556, \"#d8576b\"], [0.6666666666666666, \"#ed7953\"], [0.7777777777777778, \"#fb9f3a\"], [0.8888888888888888, \"#fdca26\"], [1.0, \"#f0f921\"]], \"type\": \"surface\"}], \"table\": [{\"cells\": {\"fill\": {\"color\": \"#EBF0F8\"}, \"line\": {\"color\": \"white\"}}, \"header\": {\"fill\": {\"color\": \"#C8D4E3\"}, \"line\": {\"color\": \"white\"}}, \"type\": \"table\"}]}, \"layout\": {\"annotationdefaults\": {\"arrowcolor\": \"#2a3f5f\", \"arrowhead\": 0, \"arrowwidth\": 1}, \"coloraxis\": {\"colorbar\": {\"outlinewidth\": 0, \"ticks\": \"\"}}, \"colorscale\": {\"diverging\": [[0, \"#8e0152\"], [0.1, \"#c51b7d\"], [0.2, \"#de77ae\"], [0.3, \"#f1b6da\"], [0.4, \"#fde0ef\"], [0.5, \"#f7f7f7\"], [0.6, \"#e6f5d0\"], [0.7, \"#b8e186\"], [0.8, \"#7fbc41\"], [0.9, \"#4d9221\"], [1, \"#276419\"]], \"sequential\": [[0.0, \"#0d0887\"], [0.1111111111111111, \"#46039f\"], [0.2222222222222222, \"#7201a8\"], [0.3333333333333333, \"#9c179e\"], [0.4444444444444444, \"#bd3786\"], [0.5555555555555556, \"#d8576b\"], [0.6666666666666666, \"#ed7953\"], [0.7777777777777778, \"#fb9f3a\"], [0.8888888888888888, \"#fdca26\"], [1.0, \"#f0f921\"]], \"sequentialminus\": [[0.0, \"#0d0887\"], [0.1111111111111111, \"#46039f\"], [0.2222222222222222, \"#7201a8\"], [0.3333333333333333, \"#9c179e\"], [0.4444444444444444, \"#bd3786\"], [0.5555555555555556, \"#d8576b\"], [0.6666666666666666, \"#ed7953\"], [0.7777777777777778, \"#fb9f3a\"], [0.8888888888888888, \"#fdca26\"], [1.0, \"#f0f921\"]]}, \"colorway\": [\"#636efa\", \"#EF553B\", \"#00cc96\", \"#ab63fa\", \"#FFA15A\", \"#19d3f3\", \"#FF6692\", \"#B6E880\", \"#FF97FF\", \"#FECB52\"], \"font\": {\"color\": \"#2a3f5f\"}, \"geo\": {\"bgcolor\": \"white\", \"lakecolor\": \"white\", \"landcolor\": \"#E5ECF6\", \"showlakes\": true, \"showland\": true, \"subunitcolor\": \"white\"}, \"hoverlabel\": {\"align\": \"left\"}, \"hovermode\": \"closest\", \"mapbox\": {\"style\": \"light\"}, \"paper_bgcolor\": \"white\", \"plot_bgcolor\": \"#E5ECF6\", \"polar\": {\"angularaxis\": {\"gridcolor\": \"white\", \"linecolor\": \"white\", \"ticks\": \"\"}, \"bgcolor\": \"#E5ECF6\", \"radialaxis\": {\"gridcolor\": \"white\", \"linecolor\": \"white\", \"ticks\": \"\"}}, \"scene\": {\"xaxis\": {\"backgroundcolor\": \"#E5ECF6\", \"gridcolor\": \"white\", \"gridwidth\": 2, \"linecolor\": \"white\", \"showbackground\": true, \"ticks\": \"\", \"zerolinecolor\": \"white\"}, \"yaxis\": {\"backgroundcolor\": \"#E5ECF6\", \"gridcolor\": \"white\", \"gridwidth\": 2, \"linecolor\": \"white\", \"showbackground\": true, \"ticks\": \"\", \"zerolinecolor\": \"white\"}, \"zaxis\": {\"backgroundcolor\": \"#E5ECF6\", \"gridcolor\": \"white\", \"gridwidth\": 2, \"linecolor\": \"white\", \"showbackground\": true, \"ticks\": \"\", \"zerolinecolor\": \"white\"}}, \"shapedefaults\": {\"line\": {\"color\": \"#2a3f5f\"}}, \"ternary\": {\"aaxis\": {\"gridcolor\": \"white\", \"linecolor\": \"white\", \"ticks\": \"\"}, \"baxis\": {\"gridcolor\": \"white\", \"linecolor\": \"white\", \"ticks\": \"\"}, \"bgcolor\": \"#E5ECF6\", \"caxis\": {\"gridcolor\": \"white\", \"linecolor\": \"white\", \"ticks\": \"\"}}, \"title\": {\"x\": 0.05}, \"xaxis\": {\"automargin\": true, \"gridcolor\": \"white\", \"linecolor\": \"white\", \"ticks\": \"\", \"title\": {\"standoff\": 15}, \"zerolinecolor\": \"white\", \"zerolinewidth\": 2}, \"yaxis\": {\"automargin\": true, \"gridcolor\": \"white\", \"linecolor\": \"white\", \"ticks\": \"\", \"title\": {\"standoff\": 15}, \"zerolinecolor\": \"white\", \"zerolinewidth\": 2}}}, \"title\": {\"text\": \"Mortality Rate vs Confirmed by Country/Region as of 2020-03-22\"}, \"xaxis\": {\"anchor\": \"y\", \"domain\": [0.0, 1.0], \"title\": {\"text\": \"Confirmed Count\"}, \"type\": \"log\"}, \"yaxis\": {\"anchor\": \"x\", \"domain\": [0.0, 1.0], \"tickformat\": \",.1%\", \"title\": {\"text\": \"Mortality Rate\"}}},\n",
              "                        {\"responsive\": true}\n",
              "                    ).then(function(){\n",
              "                            \n",
              "var gd = document.getElementById('26fe7332-de9a-4729-ab16-69a1ca675b92');\n",
              "var x = new MutationObserver(function (mutations, observer) {{\n",
              "        var display = window.getComputedStyle(gd).display;\n",
              "        if (!display || display === 'none') {{\n",
              "            console.log([gd, 'removed!']);\n",
              "            Plotly.purge(gd);\n",
              "            observer.disconnect();\n",
              "        }}\n",
              "}});\n",
              "\n",
              "// Listen for the removal of the full notebook cells\n",
              "var notebookContainer = gd.closest('#notebook-container');\n",
              "if (notebookContainer) {{\n",
              "    x.observe(notebookContainer, {childList: true});\n",
              "}}\n",
              "\n",
              "// Listen for the clearing of the current output cell\n",
              "var outputEl = gd.closest('.output');\n",
              "if (outputEl) {{\n",
              "    x.observe(outputEl, {childList: true});\n",
              "}}\n",
              "\n",
              "                        })\n",
              "                };\n",
              "                \n",
              "            </script>\n",
              "        </div>\n",
              "</body>\n",
              "</html>"
            ]
          },
          "metadata": {
            "tags": []
          }
        }
      ]
    },
    {
      "cell_type": "markdown",
      "metadata": {
        "colab_type": "text",
        "id": "NxmpzPpgoG5A"
      },
      "source": [
        "### Comparison: China has been stable in the past two weeks"
      ]
    },
    {
      "cell_type": "code",
      "metadata": {
        "colab_type": "code",
        "id": "oXHO8VEpbeot",
        "colab": {
          "base_uri": "https://localhost:8080/",
          "height": 214
        },
        "outputId": "2c9b1e85-3850-45e6-c117-d56d98cbd273"
      },
      "source": [
        "china_frm = dxy_frm.copy()\n",
        "china_frm['province_name'] = np.where(china_frm['city_name'] == '武汉', '武汉', china_frm['province_name'])  # treat Wuhan as a province\n",
        "china_frm['province_name'] = np.where(china_frm['province_name'] == '湖北省', '湖北省除武汉', china_frm['province_name'])\n",
        "china_province = china_frm.groupby(['province_name', 'update_date']).agg('sum')"
      ],
      "execution_count": 37,
      "outputs": [
        {
          "output_type": "error",
          "ename": "NameError",
          "evalue": "ignored",
          "traceback": [
            "\u001b[0;31m---------------------------------------------------------------------------\u001b[0m",
            "\u001b[0;31mNameError\u001b[0m                                 Traceback (most recent call last)",
            "\u001b[0;32m<ipython-input-37-116a2596fdb1>\u001b[0m in \u001b[0;36m<module>\u001b[0;34m()\u001b[0m\n\u001b[0;32m----> 1\u001b[0;31m \u001b[0mchina_frm\u001b[0m \u001b[0;34m=\u001b[0m \u001b[0mdxy_frm\u001b[0m\u001b[0;34m.\u001b[0m\u001b[0mcopy\u001b[0m\u001b[0;34m(\u001b[0m\u001b[0;34m)\u001b[0m\u001b[0;34m\u001b[0m\u001b[0;34m\u001b[0m\u001b[0m\n\u001b[0m\u001b[1;32m      2\u001b[0m \u001b[0mchina_frm\u001b[0m\u001b[0;34m[\u001b[0m\u001b[0;34m'province_name'\u001b[0m\u001b[0;34m]\u001b[0m \u001b[0;34m=\u001b[0m \u001b[0mnp\u001b[0m\u001b[0;34m.\u001b[0m\u001b[0mwhere\u001b[0m\u001b[0;34m(\u001b[0m\u001b[0mchina_frm\u001b[0m\u001b[0;34m[\u001b[0m\u001b[0;34m'city_name'\u001b[0m\u001b[0;34m]\u001b[0m \u001b[0;34m==\u001b[0m \u001b[0;34m'武汉'\u001b[0m\u001b[0;34m,\u001b[0m \u001b[0;34m'武汉'\u001b[0m\u001b[0;34m,\u001b[0m \u001b[0mchina_frm\u001b[0m\u001b[0;34m[\u001b[0m\u001b[0;34m'province_name'\u001b[0m\u001b[0;34m]\u001b[0m\u001b[0;34m)\u001b[0m  \u001b[0;31m# treat Wuhan as a province\u001b[0m\u001b[0;34m\u001b[0m\u001b[0;34m\u001b[0m\u001b[0m\n\u001b[1;32m      3\u001b[0m \u001b[0mchina_frm\u001b[0m\u001b[0;34m[\u001b[0m\u001b[0;34m'province_name'\u001b[0m\u001b[0;34m]\u001b[0m \u001b[0;34m=\u001b[0m \u001b[0mnp\u001b[0m\u001b[0;34m.\u001b[0m\u001b[0mwhere\u001b[0m\u001b[0;34m(\u001b[0m\u001b[0mchina_frm\u001b[0m\u001b[0;34m[\u001b[0m\u001b[0;34m'province_name'\u001b[0m\u001b[0;34m]\u001b[0m \u001b[0;34m==\u001b[0m \u001b[0;34m'湖北省'\u001b[0m\u001b[0;34m,\u001b[0m \u001b[0;34m'湖北省除武汉'\u001b[0m\u001b[0;34m,\u001b[0m \u001b[0mchina_frm\u001b[0m\u001b[0;34m[\u001b[0m\u001b[0;34m'province_name'\u001b[0m\u001b[0;34m]\u001b[0m\u001b[0;34m)\u001b[0m\u001b[0;34m\u001b[0m\u001b[0;34m\u001b[0m\u001b[0m\n\u001b[1;32m      4\u001b[0m \u001b[0mchina_province\u001b[0m \u001b[0;34m=\u001b[0m \u001b[0mchina_frm\u001b[0m\u001b[0;34m.\u001b[0m\u001b[0mgroupby\u001b[0m\u001b[0;34m(\u001b[0m\u001b[0;34m[\u001b[0m\u001b[0;34m'province_name'\u001b[0m\u001b[0;34m,\u001b[0m \u001b[0;34m'update_date'\u001b[0m\u001b[0;34m]\u001b[0m\u001b[0;34m)\u001b[0m\u001b[0;34m.\u001b[0m\u001b[0magg\u001b[0m\u001b[0;34m(\u001b[0m\u001b[0;34m'sum'\u001b[0m\u001b[0;34m)\u001b[0m\u001b[0;34m\u001b[0m\u001b[0;34m\u001b[0m\u001b[0m\n",
            "\u001b[0;31mNameError\u001b[0m: name 'dxy_frm' is not defined"
          ]
        }
      ]
    },
    {
      "cell_type": "code",
      "metadata": {
        "colab_type": "code",
        "id": "kX4yFshIsrTj",
        "colab": {}
      },
      "source": [
        "china_province = utils.add_moving_average(china_province, ['province_name'], 3)\n",
        "china_province['mortality_rate'] = china_province['cum_dead'] / china_province['cum_confirmed']\n",
        "china_province['new_confirmed_logMA'] = np.log10(china_province['new_confirmed_MA'] + 2)"
      ],
      "execution_count": 0,
      "outputs": []
    },
    {
      "cell_type": "code",
      "metadata": {
        "colab_type": "code",
        "id": "LNFymX64suqo",
        "colab": {}
      },
      "source": [
        "date = datetime.date(2020, 2, 19)\n",
        "frm = china_province.loc[(slice(None), date), :].reset_index()\n",
        "#frm = frm[frm['cum_confirmed'] >= 5]  # only show countries with more than 5 confirmed cases\n",
        "#frm = frm[frm['color'] != 'Other']\n",
        "fig = px.scatter(frm,\n",
        "                 x='cum_confirmed', \n",
        "                 y='mortality_rate',  \n",
        "                 size='new_confirmed_logMA', \n",
        "                 size_max=frm['new_confirmed_logMA'].max() * 8,\n",
        "                 #color='color',\n",
        "                 text='province_name',\n",
        "                 #color_continuous_scale=px.colors.sequential.Jet,\n",
        "                 hover_data=['province_name', 'cum_dead', 'cum_confirmed', 'new_confirmed', 'new_dead'],\n",
        "                 title='Mortality Rate vs Confirmed by Country/Region as of ' + str(date))\n",
        "fig.update_layout(xaxis_type=\"log\", xaxis_title='Confirmed Count', yaxis_title='Mortality Rate')\n",
        "fig.layout.yaxis.tickformat = ',.1%'  # set display to % format\n",
        "# add lines to split the region\n",
        "fig.add_trace(go.Scatter(x=[100, 100], y=[-0.005, 0.05], mode=\"lines\", line={'dash': 'dot', 'color': 'orange'}))\n",
        "fig.add_trace(go.Scatter(x=[500, 500], y=[-0.005, 0.05], mode=\"lines\", line={'dash': 'dot', 'color': 'orange'}))\n",
        "fig.add_trace(go.Scatter(x=[15, 50000], y=[0.02, 0.02], mode=\"lines\", line={'dash': 'dot', 'color': 'orange'}))\n",
        "fig.add_trace(go.Scatter(x=[15, 50000], y=[0.01, 0.01], mode=\"lines\", line={'dash': 'dot', 'color': 'orange'}))\n",
        "fig.update_traces(textposition='top center')\n",
        "\n",
        "fig.show()"
      ],
      "execution_count": 0,
      "outputs": []
    },
    {
      "cell_type": "markdown",
      "metadata": {
        "colab_type": "text",
        "id": "bzmiKebj24Zi"
      },
      "source": [
        "### China on 2020-03-02, bubbles are diminishing, so spread is slowed down"
      ]
    },
    {
      "cell_type": "code",
      "metadata": {
        "colab_type": "code",
        "id": "UimRZgiEtUQ5",
        "colab": {}
      },
      "source": [
        "date = datetime.date(2020, 3, 2)\n",
        "frm = china_province.loc[(slice(None), date), :].reset_index()\n",
        "#frm = frm[frm['cum_confirmed'] >= 5]  # only show countries with more than 5 confirmed cases\n",
        "#frm = frm[frm['color'] != 'Other']\n",
        "fig = px.scatter(frm,\n",
        "                 x='cum_confirmed', \n",
        "                 y='mortality_rate',  \n",
        "                 size='new_confirmed_logMA', \n",
        "                 size_max=frm['new_confirmed_logMA'].max() * 8,\n",
        "                 #color='color',\n",
        "                 text='province_name',\n",
        "                 #color_continuous_scale=px.colors.sequential.Jet,\n",
        "                 hover_data=['province_name', 'cum_dead', 'cum_confirmed', 'new_confirmed', 'new_dead'],\n",
        "                 title='Mortality Rate vs Confirmed by Country/Region as of ' + str(date))\n",
        "fig.update_layout(xaxis_type=\"log\", xaxis_title='Confirmed Count', yaxis_title='Mortality Rate')\n",
        "fig.layout.yaxis.tickformat = ',.1%'  # set display to % format\n",
        "# add lines to split the region\n",
        "fig.add_trace(go.Scatter(x=[100, 100], y=[-0.005, 0.05], mode=\"lines\", line={'dash': 'dot', 'color': 'orange'}))\n",
        "fig.add_trace(go.Scatter(x=[500, 500], y=[-0.005, 0.05], mode=\"lines\", line={'dash': 'dot', 'color': 'orange'}))\n",
        "fig.add_trace(go.Scatter(x=[50, 50000], y=[0.02, 0.02], mode=\"lines\", line={'dash': 'dot', 'color': 'orange'}))\n",
        "fig.add_trace(go.Scatter(x=[50, 50000], y=[0.01, 0.01], mode=\"lines\", line={'dash': 'dot', 'color': 'orange'}))\n",
        "fig.update_traces(textposition='top center')\n",
        "\n",
        "fig.show()"
      ],
      "execution_count": 0,
      "outputs": []
    },
    {
      "cell_type": "code",
      "metadata": {
        "colab_type": "code",
        "id": "xtTHiZCo28YT",
        "colab": {}
      },
      "source": [
        ""
      ],
      "execution_count": 0,
      "outputs": []
    }
  ]
}